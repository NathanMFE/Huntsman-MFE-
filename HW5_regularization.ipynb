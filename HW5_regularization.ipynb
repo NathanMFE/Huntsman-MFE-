{
  "nbformat": 4,
  "nbformat_minor": 0,
  "metadata": {
    "colab": {
      "provenance": [],
      "collapsed_sections": [],
      "toc_visible": true
    },
    "kernelspec": {
      "name": "python3",
      "display_name": "Python 3"
    },
    "language_info": {
      "name": "python"
    }
  },
  "cells": [
    {
      "cell_type": "markdown",
      "source": [
        "#HW 5: Regularization "
      ],
      "metadata": {
        "id": "tLdEz9w4NI1l"
      }
    },
    {
      "cell_type": "code",
      "execution_count": null,
      "metadata": {
        "id": "z9G8OtS-Huh2"
      },
      "outputs": [],
      "source": [
        "from pandas.core.common import random_state\n",
        "import numpy as np\n",
        "import pandas as pd\n",
        "import matplotlib.pyplot as plt\n",
        "import seaborn as sns\n",
        "from sklearn.linear_model import LinearRegression, Ridge, Lasso, ElasticNet\n",
        "from sklearn.preprocessing import StandardScaler\n",
        "import statsmodels.api as sm\n",
        "\n",
        "#getting rid of exponential form for interpretability\n",
        "pd.set_option('display.float_format', lambda x: '%.9f' % x)\n",
        "\n",
        "#Here we will set randomization consistency, and a sick theme \n",
        "sns.set()\n",
        "rand_state=1000\n",
        "#sns.set_palette(\"viridis\")\n",
        "import warnings\n",
        "warnings.filterwarnings('ignore')"
      ]
    },
    {
      "cell_type": "markdown",
      "source": [
        "##Importing Data"
      ],
      "metadata": {
        "id": "OXhRAjFBNE-U"
      }
    },
    {
      "cell_type": "code",
      "source": [
        "# pulling in the data here\n",
        "!wget -nc  https://raw.githubusercontent.com/PJalgotrader/Machine_Learning-USU/fall22/data/HW_data/HW5/wage_regularization.csv\n",
        "\n",
        "df=pd.read_csv('wage_regularization.csv')"
      ],
      "metadata": {
        "colab": {
          "base_uri": "https://localhost:8080/"
        },
        "id": "MDxTyICkI0eV",
        "outputId": "cdf5e81a-ca1b-430d-d90f-820c2bab3712"
      },
      "execution_count": null,
      "outputs": [
        {
          "output_type": "stream",
          "name": "stdout",
          "text": [
            "File ‘wage_regularization.csv’ already there; not retrieving.\n",
            "\n"
          ]
        }
      ]
    },
    {
      "cell_type": "code",
      "source": [
        "df.head()"
      ],
      "metadata": {
        "colab": {
          "base_uri": "https://localhost:8080/",
          "height": 206
        },
        "id": "puRO14FuLeck",
        "outputId": "93d71beb-c2c8-4088-d186-f353bac526fc"
      },
      "execution_count": null,
      "outputs": [
        {
          "output_type": "execute_result",
          "data": {
            "text/plain": [
              "              wage  educ  educ2  educ3   educ4    educ5  age  age2   age3  \\\n",
              "0 769000.000000000    12    144   1728   20736   248832   31   961  29791   \n",
              "1 808000.000000000    18    324   5832  104976  1889568   37  1369  50653   \n",
              "2 825000.000000000    14    196   2744   38416   537824   33  1089  35937   \n",
              "3 650000.000000000    12    144   1728   20736   248832   32  1024  32768   \n",
              "4 562000.000000000    11    121   1331   14641   161051   34  1156  39304   \n",
              "\n",
              "      age4      age5  \n",
              "0   923521  28629151  \n",
              "1  1874161  69343957  \n",
              "2  1185921  39135393  \n",
              "3  1048576  33554432  \n",
              "4  1336336  45435424  "
            ],
            "text/html": [
              "\n",
              "  <div id=\"df-41e6452e-ef41-4808-8641-bbd21093ec2f\">\n",
              "    <div class=\"colab-df-container\">\n",
              "      <div>\n",
              "<style scoped>\n",
              "    .dataframe tbody tr th:only-of-type {\n",
              "        vertical-align: middle;\n",
              "    }\n",
              "\n",
              "    .dataframe tbody tr th {\n",
              "        vertical-align: top;\n",
              "    }\n",
              "\n",
              "    .dataframe thead th {\n",
              "        text-align: right;\n",
              "    }\n",
              "</style>\n",
              "<table border=\"1\" class=\"dataframe\">\n",
              "  <thead>\n",
              "    <tr style=\"text-align: right;\">\n",
              "      <th></th>\n",
              "      <th>wage</th>\n",
              "      <th>educ</th>\n",
              "      <th>educ2</th>\n",
              "      <th>educ3</th>\n",
              "      <th>educ4</th>\n",
              "      <th>educ5</th>\n",
              "      <th>age</th>\n",
              "      <th>age2</th>\n",
              "      <th>age3</th>\n",
              "      <th>age4</th>\n",
              "      <th>age5</th>\n",
              "    </tr>\n",
              "  </thead>\n",
              "  <tbody>\n",
              "    <tr>\n",
              "      <th>0</th>\n",
              "      <td>769000.000000000</td>\n",
              "      <td>12</td>\n",
              "      <td>144</td>\n",
              "      <td>1728</td>\n",
              "      <td>20736</td>\n",
              "      <td>248832</td>\n",
              "      <td>31</td>\n",
              "      <td>961</td>\n",
              "      <td>29791</td>\n",
              "      <td>923521</td>\n",
              "      <td>28629151</td>\n",
              "    </tr>\n",
              "    <tr>\n",
              "      <th>1</th>\n",
              "      <td>808000.000000000</td>\n",
              "      <td>18</td>\n",
              "      <td>324</td>\n",
              "      <td>5832</td>\n",
              "      <td>104976</td>\n",
              "      <td>1889568</td>\n",
              "      <td>37</td>\n",
              "      <td>1369</td>\n",
              "      <td>50653</td>\n",
              "      <td>1874161</td>\n",
              "      <td>69343957</td>\n",
              "    </tr>\n",
              "    <tr>\n",
              "      <th>2</th>\n",
              "      <td>825000.000000000</td>\n",
              "      <td>14</td>\n",
              "      <td>196</td>\n",
              "      <td>2744</td>\n",
              "      <td>38416</td>\n",
              "      <td>537824</td>\n",
              "      <td>33</td>\n",
              "      <td>1089</td>\n",
              "      <td>35937</td>\n",
              "      <td>1185921</td>\n",
              "      <td>39135393</td>\n",
              "    </tr>\n",
              "    <tr>\n",
              "      <th>3</th>\n",
              "      <td>650000.000000000</td>\n",
              "      <td>12</td>\n",
              "      <td>144</td>\n",
              "      <td>1728</td>\n",
              "      <td>20736</td>\n",
              "      <td>248832</td>\n",
              "      <td>32</td>\n",
              "      <td>1024</td>\n",
              "      <td>32768</td>\n",
              "      <td>1048576</td>\n",
              "      <td>33554432</td>\n",
              "    </tr>\n",
              "    <tr>\n",
              "      <th>4</th>\n",
              "      <td>562000.000000000</td>\n",
              "      <td>11</td>\n",
              "      <td>121</td>\n",
              "      <td>1331</td>\n",
              "      <td>14641</td>\n",
              "      <td>161051</td>\n",
              "      <td>34</td>\n",
              "      <td>1156</td>\n",
              "      <td>39304</td>\n",
              "      <td>1336336</td>\n",
              "      <td>45435424</td>\n",
              "    </tr>\n",
              "  </tbody>\n",
              "</table>\n",
              "</div>\n",
              "      <button class=\"colab-df-convert\" onclick=\"convertToInteractive('df-41e6452e-ef41-4808-8641-bbd21093ec2f')\"\n",
              "              title=\"Convert this dataframe to an interactive table.\"\n",
              "              style=\"display:none;\">\n",
              "        \n",
              "  <svg xmlns=\"http://www.w3.org/2000/svg\" height=\"24px\"viewBox=\"0 0 24 24\"\n",
              "       width=\"24px\">\n",
              "    <path d=\"M0 0h24v24H0V0z\" fill=\"none\"/>\n",
              "    <path d=\"M18.56 5.44l.94 2.06.94-2.06 2.06-.94-2.06-.94-.94-2.06-.94 2.06-2.06.94zm-11 1L8.5 8.5l.94-2.06 2.06-.94-2.06-.94L8.5 2.5l-.94 2.06-2.06.94zm10 10l.94 2.06.94-2.06 2.06-.94-2.06-.94-.94-2.06-.94 2.06-2.06.94z\"/><path d=\"M17.41 7.96l-1.37-1.37c-.4-.4-.92-.59-1.43-.59-.52 0-1.04.2-1.43.59L10.3 9.45l-7.72 7.72c-.78.78-.78 2.05 0 2.83L4 21.41c.39.39.9.59 1.41.59.51 0 1.02-.2 1.41-.59l7.78-7.78 2.81-2.81c.8-.78.8-2.07 0-2.86zM5.41 20L4 18.59l7.72-7.72 1.47 1.35L5.41 20z\"/>\n",
              "  </svg>\n",
              "      </button>\n",
              "      \n",
              "  <style>\n",
              "    .colab-df-container {\n",
              "      display:flex;\n",
              "      flex-wrap:wrap;\n",
              "      gap: 12px;\n",
              "    }\n",
              "\n",
              "    .colab-df-convert {\n",
              "      background-color: #E8F0FE;\n",
              "      border: none;\n",
              "      border-radius: 50%;\n",
              "      cursor: pointer;\n",
              "      display: none;\n",
              "      fill: #1967D2;\n",
              "      height: 32px;\n",
              "      padding: 0 0 0 0;\n",
              "      width: 32px;\n",
              "    }\n",
              "\n",
              "    .colab-df-convert:hover {\n",
              "      background-color: #E2EBFA;\n",
              "      box-shadow: 0px 1px 2px rgba(60, 64, 67, 0.3), 0px 1px 3px 1px rgba(60, 64, 67, 0.15);\n",
              "      fill: #174EA6;\n",
              "    }\n",
              "\n",
              "    [theme=dark] .colab-df-convert {\n",
              "      background-color: #3B4455;\n",
              "      fill: #D2E3FC;\n",
              "    }\n",
              "\n",
              "    [theme=dark] .colab-df-convert:hover {\n",
              "      background-color: #434B5C;\n",
              "      box-shadow: 0px 1px 3px 1px rgba(0, 0, 0, 0.15);\n",
              "      filter: drop-shadow(0px 1px 2px rgba(0, 0, 0, 0.3));\n",
              "      fill: #FFFFFF;\n",
              "    }\n",
              "  </style>\n",
              "\n",
              "      <script>\n",
              "        const buttonEl =\n",
              "          document.querySelector('#df-41e6452e-ef41-4808-8641-bbd21093ec2f button.colab-df-convert');\n",
              "        buttonEl.style.display =\n",
              "          google.colab.kernel.accessAllowed ? 'block' : 'none';\n",
              "\n",
              "        async function convertToInteractive(key) {\n",
              "          const element = document.querySelector('#df-41e6452e-ef41-4808-8641-bbd21093ec2f');\n",
              "          const dataTable =\n",
              "            await google.colab.kernel.invokeFunction('convertToInteractive',\n",
              "                                                     [key], {});\n",
              "          if (!dataTable) return;\n",
              "\n",
              "          const docLinkHtml = 'Like what you see? Visit the ' +\n",
              "            '<a target=\"_blank\" href=https://colab.research.google.com/notebooks/data_table.ipynb>data table notebook</a>'\n",
              "            + ' to learn more about interactive tables.';\n",
              "          element.innerHTML = '';\n",
              "          dataTable['output_type'] = 'display_data';\n",
              "          await google.colab.output.renderOutput(dataTable, element);\n",
              "          const docLink = document.createElement('div');\n",
              "          docLink.innerHTML = docLinkHtml;\n",
              "          element.appendChild(docLink);\n",
              "        }\n",
              "      </script>\n",
              "    </div>\n",
              "  </div>\n",
              "  "
            ]
          },
          "metadata": {},
          "execution_count": 99
        }
      ]
    },
    {
      "cell_type": "code",
      "source": [
        "scaler=StandardScaler()\n",
        "df_sc= scaler.fit_transform(df)\n",
        "df_sc"
      ],
      "metadata": {
        "colab": {
          "base_uri": "https://localhost:8080/"
        },
        "id": "WWcg1lXTMvip",
        "outputId": "e7cd4eb8-b689-457b-f97f-9f46ede13b57"
      },
      "execution_count": null,
      "outputs": [
        {
          "output_type": "execute_result",
          "data": {
            "text/plain": [
              "array([[-0.46751952, -0.66885143, -0.681389  , ..., -0.70895446,\n",
              "        -0.72303072, -0.73357606],\n",
              "       [-0.37101938,  2.06403752,  2.2236843 , ...,  1.29793053,\n",
              "         1.31081019,  1.32021092],\n",
              "       [-0.32895523,  0.24211155,  0.1578544 , ..., -0.11772087,\n",
              "        -0.16164066, -0.20360711],\n",
              "       ...,\n",
              "       [-1.03909722, -0.66885143, -0.681389  , ..., -1.46305145,\n",
              "        -1.38383005, -1.30957655],\n",
              "       [-0.21018583, -0.66885143, -0.681389  , ..., -1.46305145,\n",
              "        -1.38383005, -1.30957655],\n",
              "       [ 0.10405818, -0.66885143, -0.681389  , ...,  0.54970162,\n",
              "         0.51165088,  0.4716505 ]])"
            ]
          },
          "metadata": {},
          "execution_count": 100
        }
      ]
    },
    {
      "cell_type": "code",
      "source": [
        "df_sc.describe()"
      ],
      "metadata": {
        "colab": {
          "base_uri": "https://localhost:8080/",
          "height": 364
        },
        "id": "LgKunKw0M59z",
        "outputId": "c51764dc-0169-4ba8-be24-1c4b6f4025ab"
      },
      "execution_count": 94,
      "outputs": [
        {
          "output_type": "execute_result",
          "data": {
            "text/plain": [
              "               wage          educ         educ2         educ3         educ4  \\\n",
              "count 935.000000000 935.000000000 935.000000000 935.000000000 935.000000000   \n",
              "mean   -0.000000000  -0.000000000  -0.000000000   0.000000000   0.000000000   \n",
              "std     1.000535189   1.000535189   1.000535189   1.000535189   1.000535189   \n",
              "min    -2.085752483  -2.035295910  -1.698164650  -1.429086730  -1.216921334   \n",
              "25%    -0.714955749  -0.668851432  -0.681388997  -0.683464913  -0.677116289   \n",
              "50%    -0.131006239  -0.668851432  -0.681388997  -0.683464913  -0.677116289   \n",
              "75%     0.499956157   1.153074538   1.126212163   1.083934949   1.028934223   \n",
              "max     5.245783114   2.064037523   2.223684296   2.379630119   2.530867978   \n",
              "\n",
              "              educ5           age          age2          age3          age4  \\\n",
              "count 935.000000000 935.000000000 935.000000000 935.000000000 935.000000000   \n",
              "mean    0.000000000   0.000000000  -0.000000000  -0.000000000   0.000000000   \n",
              "std     1.000535189   1.000535189   1.000535189   1.000535189   1.000535189   \n",
              "min    -1.050634559  -1.635538791  -1.547054434  -1.463051451  -1.383830053   \n",
              "25%    -0.664267790  -0.991652993  -0.986157218  -0.977443387  -0.965902531   \n",
              "50%    -0.664267790  -0.025824297  -0.072281582  -0.117720869  -0.161640656   \n",
              "75%     0.963878593   0.940004400   0.928629829   0.913426682   0.894592080   \n",
              "max     2.675999075   1.583890197   1.644257311   1.703790362   1.762179355   \n",
              "\n",
              "               age5  \n",
              "count 935.000000000  \n",
              "mean    0.000000000  \n",
              "std     1.000535189  \n",
              "min    -1.309576548  \n",
              "25%    -0.951952495  \n",
              "50%    -0.203607111  \n",
              "75%     0.872386830  \n",
              "max     1.819155717  "
            ],
            "text/html": [
              "\n",
              "  <div id=\"df-646eb4b1-12f3-4c6f-b33e-61e72cab8d2e\">\n",
              "    <div class=\"colab-df-container\">\n",
              "      <div>\n",
              "<style scoped>\n",
              "    .dataframe tbody tr th:only-of-type {\n",
              "        vertical-align: middle;\n",
              "    }\n",
              "\n",
              "    .dataframe tbody tr th {\n",
              "        vertical-align: top;\n",
              "    }\n",
              "\n",
              "    .dataframe thead th {\n",
              "        text-align: right;\n",
              "    }\n",
              "</style>\n",
              "<table border=\"1\" class=\"dataframe\">\n",
              "  <thead>\n",
              "    <tr style=\"text-align: right;\">\n",
              "      <th></th>\n",
              "      <th>wage</th>\n",
              "      <th>educ</th>\n",
              "      <th>educ2</th>\n",
              "      <th>educ3</th>\n",
              "      <th>educ4</th>\n",
              "      <th>educ5</th>\n",
              "      <th>age</th>\n",
              "      <th>age2</th>\n",
              "      <th>age3</th>\n",
              "      <th>age4</th>\n",
              "      <th>age5</th>\n",
              "    </tr>\n",
              "  </thead>\n",
              "  <tbody>\n",
              "    <tr>\n",
              "      <th>count</th>\n",
              "      <td>935.000000000</td>\n",
              "      <td>935.000000000</td>\n",
              "      <td>935.000000000</td>\n",
              "      <td>935.000000000</td>\n",
              "      <td>935.000000000</td>\n",
              "      <td>935.000000000</td>\n",
              "      <td>935.000000000</td>\n",
              "      <td>935.000000000</td>\n",
              "      <td>935.000000000</td>\n",
              "      <td>935.000000000</td>\n",
              "      <td>935.000000000</td>\n",
              "    </tr>\n",
              "    <tr>\n",
              "      <th>mean</th>\n",
              "      <td>-0.000000000</td>\n",
              "      <td>-0.000000000</td>\n",
              "      <td>-0.000000000</td>\n",
              "      <td>0.000000000</td>\n",
              "      <td>0.000000000</td>\n",
              "      <td>0.000000000</td>\n",
              "      <td>0.000000000</td>\n",
              "      <td>-0.000000000</td>\n",
              "      <td>-0.000000000</td>\n",
              "      <td>0.000000000</td>\n",
              "      <td>0.000000000</td>\n",
              "    </tr>\n",
              "    <tr>\n",
              "      <th>std</th>\n",
              "      <td>1.000535189</td>\n",
              "      <td>1.000535189</td>\n",
              "      <td>1.000535189</td>\n",
              "      <td>1.000535189</td>\n",
              "      <td>1.000535189</td>\n",
              "      <td>1.000535189</td>\n",
              "      <td>1.000535189</td>\n",
              "      <td>1.000535189</td>\n",
              "      <td>1.000535189</td>\n",
              "      <td>1.000535189</td>\n",
              "      <td>1.000535189</td>\n",
              "    </tr>\n",
              "    <tr>\n",
              "      <th>min</th>\n",
              "      <td>-2.085752483</td>\n",
              "      <td>-2.035295910</td>\n",
              "      <td>-1.698164650</td>\n",
              "      <td>-1.429086730</td>\n",
              "      <td>-1.216921334</td>\n",
              "      <td>-1.050634559</td>\n",
              "      <td>-1.635538791</td>\n",
              "      <td>-1.547054434</td>\n",
              "      <td>-1.463051451</td>\n",
              "      <td>-1.383830053</td>\n",
              "      <td>-1.309576548</td>\n",
              "    </tr>\n",
              "    <tr>\n",
              "      <th>25%</th>\n",
              "      <td>-0.714955749</td>\n",
              "      <td>-0.668851432</td>\n",
              "      <td>-0.681388997</td>\n",
              "      <td>-0.683464913</td>\n",
              "      <td>-0.677116289</td>\n",
              "      <td>-0.664267790</td>\n",
              "      <td>-0.991652993</td>\n",
              "      <td>-0.986157218</td>\n",
              "      <td>-0.977443387</td>\n",
              "      <td>-0.965902531</td>\n",
              "      <td>-0.951952495</td>\n",
              "    </tr>\n",
              "    <tr>\n",
              "      <th>50%</th>\n",
              "      <td>-0.131006239</td>\n",
              "      <td>-0.668851432</td>\n",
              "      <td>-0.681388997</td>\n",
              "      <td>-0.683464913</td>\n",
              "      <td>-0.677116289</td>\n",
              "      <td>-0.664267790</td>\n",
              "      <td>-0.025824297</td>\n",
              "      <td>-0.072281582</td>\n",
              "      <td>-0.117720869</td>\n",
              "      <td>-0.161640656</td>\n",
              "      <td>-0.203607111</td>\n",
              "    </tr>\n",
              "    <tr>\n",
              "      <th>75%</th>\n",
              "      <td>0.499956157</td>\n",
              "      <td>1.153074538</td>\n",
              "      <td>1.126212163</td>\n",
              "      <td>1.083934949</td>\n",
              "      <td>1.028934223</td>\n",
              "      <td>0.963878593</td>\n",
              "      <td>0.940004400</td>\n",
              "      <td>0.928629829</td>\n",
              "      <td>0.913426682</td>\n",
              "      <td>0.894592080</td>\n",
              "      <td>0.872386830</td>\n",
              "    </tr>\n",
              "    <tr>\n",
              "      <th>max</th>\n",
              "      <td>5.245783114</td>\n",
              "      <td>2.064037523</td>\n",
              "      <td>2.223684296</td>\n",
              "      <td>2.379630119</td>\n",
              "      <td>2.530867978</td>\n",
              "      <td>2.675999075</td>\n",
              "      <td>1.583890197</td>\n",
              "      <td>1.644257311</td>\n",
              "      <td>1.703790362</td>\n",
              "      <td>1.762179355</td>\n",
              "      <td>1.819155717</td>\n",
              "    </tr>\n",
              "  </tbody>\n",
              "</table>\n",
              "</div>\n",
              "      <button class=\"colab-df-convert\" onclick=\"convertToInteractive('df-646eb4b1-12f3-4c6f-b33e-61e72cab8d2e')\"\n",
              "              title=\"Convert this dataframe to an interactive table.\"\n",
              "              style=\"display:none;\">\n",
              "        \n",
              "  <svg xmlns=\"http://www.w3.org/2000/svg\" height=\"24px\"viewBox=\"0 0 24 24\"\n",
              "       width=\"24px\">\n",
              "    <path d=\"M0 0h24v24H0V0z\" fill=\"none\"/>\n",
              "    <path d=\"M18.56 5.44l.94 2.06.94-2.06 2.06-.94-2.06-.94-.94-2.06-.94 2.06-2.06.94zm-11 1L8.5 8.5l.94-2.06 2.06-.94-2.06-.94L8.5 2.5l-.94 2.06-2.06.94zm10 10l.94 2.06.94-2.06 2.06-.94-2.06-.94-.94-2.06-.94 2.06-2.06.94z\"/><path d=\"M17.41 7.96l-1.37-1.37c-.4-.4-.92-.59-1.43-.59-.52 0-1.04.2-1.43.59L10.3 9.45l-7.72 7.72c-.78.78-.78 2.05 0 2.83L4 21.41c.39.39.9.59 1.41.59.51 0 1.02-.2 1.41-.59l7.78-7.78 2.81-2.81c.8-.78.8-2.07 0-2.86zM5.41 20L4 18.59l7.72-7.72 1.47 1.35L5.41 20z\"/>\n",
              "  </svg>\n",
              "      </button>\n",
              "      \n",
              "  <style>\n",
              "    .colab-df-container {\n",
              "      display:flex;\n",
              "      flex-wrap:wrap;\n",
              "      gap: 12px;\n",
              "    }\n",
              "\n",
              "    .colab-df-convert {\n",
              "      background-color: #E8F0FE;\n",
              "      border: none;\n",
              "      border-radius: 50%;\n",
              "      cursor: pointer;\n",
              "      display: none;\n",
              "      fill: #1967D2;\n",
              "      height: 32px;\n",
              "      padding: 0 0 0 0;\n",
              "      width: 32px;\n",
              "    }\n",
              "\n",
              "    .colab-df-convert:hover {\n",
              "      background-color: #E2EBFA;\n",
              "      box-shadow: 0px 1px 2px rgba(60, 64, 67, 0.3), 0px 1px 3px 1px rgba(60, 64, 67, 0.15);\n",
              "      fill: #174EA6;\n",
              "    }\n",
              "\n",
              "    [theme=dark] .colab-df-convert {\n",
              "      background-color: #3B4455;\n",
              "      fill: #D2E3FC;\n",
              "    }\n",
              "\n",
              "    [theme=dark] .colab-df-convert:hover {\n",
              "      background-color: #434B5C;\n",
              "      box-shadow: 0px 1px 3px 1px rgba(0, 0, 0, 0.15);\n",
              "      filter: drop-shadow(0px 1px 2px rgba(0, 0, 0, 0.3));\n",
              "      fill: #FFFFFF;\n",
              "    }\n",
              "  </style>\n",
              "\n",
              "      <script>\n",
              "        const buttonEl =\n",
              "          document.querySelector('#df-646eb4b1-12f3-4c6f-b33e-61e72cab8d2e button.colab-df-convert');\n",
              "        buttonEl.style.display =\n",
              "          google.colab.kernel.accessAllowed ? 'block' : 'none';\n",
              "\n",
              "        async function convertToInteractive(key) {\n",
              "          const element = document.querySelector('#df-646eb4b1-12f3-4c6f-b33e-61e72cab8d2e');\n",
              "          const dataTable =\n",
              "            await google.colab.kernel.invokeFunction('convertToInteractive',\n",
              "                                                     [key], {});\n",
              "          if (!dataTable) return;\n",
              "\n",
              "          const docLinkHtml = 'Like what you see? Visit the ' +\n",
              "            '<a target=\"_blank\" href=https://colab.research.google.com/notebooks/data_table.ipynb>data table notebook</a>'\n",
              "            + ' to learn more about interactive tables.';\n",
              "          element.innerHTML = '';\n",
              "          dataTable['output_type'] = 'display_data';\n",
              "          await google.colab.output.renderOutput(dataTable, element);\n",
              "          const docLink = document.createElement('div');\n",
              "          docLink.innerHTML = docLinkHtml;\n",
              "          element.appendChild(docLink);\n",
              "        }\n",
              "      </script>\n",
              "    </div>\n",
              "  </div>\n",
              "  "
            ]
          },
          "metadata": {},
          "execution_count": 94
        }
      ]
    },
    {
      "cell_type": "code",
      "source": [
        "df_sc.columns"
      ],
      "metadata": {
        "colab": {
          "base_uri": "https://localhost:8080/"
        },
        "id": "eNMaryjQM8Ba",
        "outputId": "aa6d96b7-348d-4220-a96d-2f0bff49890d"
      },
      "execution_count": 95,
      "outputs": [
        {
          "output_type": "execute_result",
          "data": {
            "text/plain": [
              "Index(['wage', 'educ', 'educ2', 'educ3', 'educ4', 'educ5', 'age', 'age2',\n",
              "       'age3', 'age4', 'age5'],\n",
              "      dtype='object')"
            ]
          },
          "metadata": {},
          "execution_count": 95
        }
      ]
    },
    {
      "cell_type": "code",
      "source": [
        "df_sc = pd.DataFrame(df_sc, columns=df.columns)\n",
        "df_sc.head()"
      ],
      "metadata": {
        "colab": {
          "base_uri": "https://localhost:8080/",
          "height": 270
        },
        "id": "iB6uoCbGM_CO",
        "outputId": "80ede366-1756-4dc2-e461-a9116f8a7206"
      },
      "execution_count": 96,
      "outputs": [
        {
          "output_type": "execute_result",
          "data": {
            "text/plain": [
              "          wage         educ        educ2        educ3        educ4  \\\n",
              "0 -0.467519516 -0.668851432 -0.681388997 -0.683464913 -0.677116289   \n",
              "1 -0.371019385  2.064037523  2.223684296  2.379630119  2.530867978   \n",
              "2 -0.328955225  0.242111553  0.157854398  0.074845163 -0.003835640   \n",
              "3 -0.761968634 -0.668851432 -0.681388997 -0.683464913 -0.677116289   \n",
              "4 -0.979712519 -1.124332925 -1.052592807 -0.979773083 -0.909222938   \n",
              "\n",
              "         educ5          age         age2         age3         age4  \\\n",
              "0 -0.664267790 -0.669710094 -0.691202648 -0.708954459 -0.723030725   \n",
              "1  2.675999075  1.261947299  1.281608249  1.297930532  1.310810186   \n",
              "2 -0.075927922 -0.025824297 -0.072281582 -0.117720869 -0.161640656   \n",
              "3 -0.664267790 -0.347767196 -0.386577436 -0.422572683 -0.455482573   \n",
              "4 -0.842975373  0.296118602  0.251684913  0.206178170  0.160163792   \n",
              "\n",
              "          age5  \n",
              "0 -0.733576064  \n",
              "1  1.320210924  \n",
              "2 -0.203607111  \n",
              "3 -0.485128902  \n",
              "4  0.114186904  "
            ],
            "text/html": [
              "\n",
              "  <div id=\"df-dd87de2c-af86-4f45-9fbc-fdcac53e374c\">\n",
              "    <div class=\"colab-df-container\">\n",
              "      <div>\n",
              "<style scoped>\n",
              "    .dataframe tbody tr th:only-of-type {\n",
              "        vertical-align: middle;\n",
              "    }\n",
              "\n",
              "    .dataframe tbody tr th {\n",
              "        vertical-align: top;\n",
              "    }\n",
              "\n",
              "    .dataframe thead th {\n",
              "        text-align: right;\n",
              "    }\n",
              "</style>\n",
              "<table border=\"1\" class=\"dataframe\">\n",
              "  <thead>\n",
              "    <tr style=\"text-align: right;\">\n",
              "      <th></th>\n",
              "      <th>wage</th>\n",
              "      <th>educ</th>\n",
              "      <th>educ2</th>\n",
              "      <th>educ3</th>\n",
              "      <th>educ4</th>\n",
              "      <th>educ5</th>\n",
              "      <th>age</th>\n",
              "      <th>age2</th>\n",
              "      <th>age3</th>\n",
              "      <th>age4</th>\n",
              "      <th>age5</th>\n",
              "    </tr>\n",
              "  </thead>\n",
              "  <tbody>\n",
              "    <tr>\n",
              "      <th>0</th>\n",
              "      <td>-0.467519516</td>\n",
              "      <td>-0.668851432</td>\n",
              "      <td>-0.681388997</td>\n",
              "      <td>-0.683464913</td>\n",
              "      <td>-0.677116289</td>\n",
              "      <td>-0.664267790</td>\n",
              "      <td>-0.669710094</td>\n",
              "      <td>-0.691202648</td>\n",
              "      <td>-0.708954459</td>\n",
              "      <td>-0.723030725</td>\n",
              "      <td>-0.733576064</td>\n",
              "    </tr>\n",
              "    <tr>\n",
              "      <th>1</th>\n",
              "      <td>-0.371019385</td>\n",
              "      <td>2.064037523</td>\n",
              "      <td>2.223684296</td>\n",
              "      <td>2.379630119</td>\n",
              "      <td>2.530867978</td>\n",
              "      <td>2.675999075</td>\n",
              "      <td>1.261947299</td>\n",
              "      <td>1.281608249</td>\n",
              "      <td>1.297930532</td>\n",
              "      <td>1.310810186</td>\n",
              "      <td>1.320210924</td>\n",
              "    </tr>\n",
              "    <tr>\n",
              "      <th>2</th>\n",
              "      <td>-0.328955225</td>\n",
              "      <td>0.242111553</td>\n",
              "      <td>0.157854398</td>\n",
              "      <td>0.074845163</td>\n",
              "      <td>-0.003835640</td>\n",
              "      <td>-0.075927922</td>\n",
              "      <td>-0.025824297</td>\n",
              "      <td>-0.072281582</td>\n",
              "      <td>-0.117720869</td>\n",
              "      <td>-0.161640656</td>\n",
              "      <td>-0.203607111</td>\n",
              "    </tr>\n",
              "    <tr>\n",
              "      <th>3</th>\n",
              "      <td>-0.761968634</td>\n",
              "      <td>-0.668851432</td>\n",
              "      <td>-0.681388997</td>\n",
              "      <td>-0.683464913</td>\n",
              "      <td>-0.677116289</td>\n",
              "      <td>-0.664267790</td>\n",
              "      <td>-0.347767196</td>\n",
              "      <td>-0.386577436</td>\n",
              "      <td>-0.422572683</td>\n",
              "      <td>-0.455482573</td>\n",
              "      <td>-0.485128902</td>\n",
              "    </tr>\n",
              "    <tr>\n",
              "      <th>4</th>\n",
              "      <td>-0.979712519</td>\n",
              "      <td>-1.124332925</td>\n",
              "      <td>-1.052592807</td>\n",
              "      <td>-0.979773083</td>\n",
              "      <td>-0.909222938</td>\n",
              "      <td>-0.842975373</td>\n",
              "      <td>0.296118602</td>\n",
              "      <td>0.251684913</td>\n",
              "      <td>0.206178170</td>\n",
              "      <td>0.160163792</td>\n",
              "      <td>0.114186904</td>\n",
              "    </tr>\n",
              "  </tbody>\n",
              "</table>\n",
              "</div>\n",
              "      <button class=\"colab-df-convert\" onclick=\"convertToInteractive('df-dd87de2c-af86-4f45-9fbc-fdcac53e374c')\"\n",
              "              title=\"Convert this dataframe to an interactive table.\"\n",
              "              style=\"display:none;\">\n",
              "        \n",
              "  <svg xmlns=\"http://www.w3.org/2000/svg\" height=\"24px\"viewBox=\"0 0 24 24\"\n",
              "       width=\"24px\">\n",
              "    <path d=\"M0 0h24v24H0V0z\" fill=\"none\"/>\n",
              "    <path d=\"M18.56 5.44l.94 2.06.94-2.06 2.06-.94-2.06-.94-.94-2.06-.94 2.06-2.06.94zm-11 1L8.5 8.5l.94-2.06 2.06-.94-2.06-.94L8.5 2.5l-.94 2.06-2.06.94zm10 10l.94 2.06.94-2.06 2.06-.94-2.06-.94-.94-2.06-.94 2.06-2.06.94z\"/><path d=\"M17.41 7.96l-1.37-1.37c-.4-.4-.92-.59-1.43-.59-.52 0-1.04.2-1.43.59L10.3 9.45l-7.72 7.72c-.78.78-.78 2.05 0 2.83L4 21.41c.39.39.9.59 1.41.59.51 0 1.02-.2 1.41-.59l7.78-7.78 2.81-2.81c.8-.78.8-2.07 0-2.86zM5.41 20L4 18.59l7.72-7.72 1.47 1.35L5.41 20z\"/>\n",
              "  </svg>\n",
              "      </button>\n",
              "      \n",
              "  <style>\n",
              "    .colab-df-container {\n",
              "      display:flex;\n",
              "      flex-wrap:wrap;\n",
              "      gap: 12px;\n",
              "    }\n",
              "\n",
              "    .colab-df-convert {\n",
              "      background-color: #E8F0FE;\n",
              "      border: none;\n",
              "      border-radius: 50%;\n",
              "      cursor: pointer;\n",
              "      display: none;\n",
              "      fill: #1967D2;\n",
              "      height: 32px;\n",
              "      padding: 0 0 0 0;\n",
              "      width: 32px;\n",
              "    }\n",
              "\n",
              "    .colab-df-convert:hover {\n",
              "      background-color: #E2EBFA;\n",
              "      box-shadow: 0px 1px 2px rgba(60, 64, 67, 0.3), 0px 1px 3px 1px rgba(60, 64, 67, 0.15);\n",
              "      fill: #174EA6;\n",
              "    }\n",
              "\n",
              "    [theme=dark] .colab-df-convert {\n",
              "      background-color: #3B4455;\n",
              "      fill: #D2E3FC;\n",
              "    }\n",
              "\n",
              "    [theme=dark] .colab-df-convert:hover {\n",
              "      background-color: #434B5C;\n",
              "      box-shadow: 0px 1px 3px 1px rgba(0, 0, 0, 0.15);\n",
              "      filter: drop-shadow(0px 1px 2px rgba(0, 0, 0, 0.3));\n",
              "      fill: #FFFFFF;\n",
              "    }\n",
              "  </style>\n",
              "\n",
              "      <script>\n",
              "        const buttonEl =\n",
              "          document.querySelector('#df-dd87de2c-af86-4f45-9fbc-fdcac53e374c button.colab-df-convert');\n",
              "        buttonEl.style.display =\n",
              "          google.colab.kernel.accessAllowed ? 'block' : 'none';\n",
              "\n",
              "        async function convertToInteractive(key) {\n",
              "          const element = document.querySelector('#df-dd87de2c-af86-4f45-9fbc-fdcac53e374c');\n",
              "          const dataTable =\n",
              "            await google.colab.kernel.invokeFunction('convertToInteractive',\n",
              "                                                     [key], {});\n",
              "          if (!dataTable) return;\n",
              "\n",
              "          const docLinkHtml = 'Like what you see? Visit the ' +\n",
              "            '<a target=\"_blank\" href=https://colab.research.google.com/notebooks/data_table.ipynb>data table notebook</a>'\n",
              "            + ' to learn more about interactive tables.';\n",
              "          element.innerHTML = '';\n",
              "          dataTable['output_type'] = 'display_data';\n",
              "          await google.colab.output.renderOutput(dataTable, element);\n",
              "          const docLink = document.createElement('div');\n",
              "          docLink.innerHTML = docLinkHtml;\n",
              "          element.appendChild(docLink);\n",
              "        }\n",
              "      </script>\n",
              "    </div>\n",
              "  </div>\n",
              "  "
            ]
          },
          "metadata": {},
          "execution_count": 96
        }
      ]
    },
    {
      "cell_type": "markdown",
      "source": [
        "## Splitting Data"
      ],
      "metadata": {
        "id": "F-ohHCBXNCmh"
      }
    },
    {
      "cell_type": "code",
      "source": [
        "y = df_sc['wage']\n",
        "X = df_sc.drop('wage', axis=1) # becareful inplace= False\n",
        "\n",
        "from sklearn.model_selection import train_test_split\n",
        "X_train, X_test, y_train, y_test = train_test_split(X, y, test_size=0.2, random_state=rand_state)\n",
        "X_train.head()"
      ],
      "metadata": {
        "colab": {
          "base_uri": "https://localhost:8080/",
          "height": 270
        },
        "id": "6bt2QSutNAGb",
        "outputId": "9fa7996b-4036-442e-8d96-f59a2ff48fe1"
      },
      "execution_count": 97,
      "outputs": [
        {
          "output_type": "execute_result",
          "data": {
            "text/plain": [
              "            educ        educ2        educ3        educ4        educ5  \\\n",
              "932 -0.668851432 -0.681388997 -0.683464913 -0.677116289 -0.664267790   \n",
              "82  -1.124332925 -1.052592807 -0.979773083 -0.909222938 -0.842975373   \n",
              "370  1.608556030  1.658808933  1.693717756  1.713829725  1.719745242   \n",
              "452 -0.668851432 -0.681388997 -0.683464913 -0.677116289 -0.664267790   \n",
              "132 -0.668851432 -0.681388997 -0.683464913 -0.677116289 -0.664267790   \n",
              "\n",
              "             age         age2         age3         age4         age5  \n",
              "932 -1.635538791 -1.547054434 -1.463051451 -1.383830053 -1.309576548  \n",
              "82   1.261947299  1.281608249  1.297930532  1.310810186  1.320210924  \n",
              "370  1.583890197  1.644257311  1.703790362  1.762179355  1.819155717  \n",
              "452  0.940004400  0.928629829  0.913426682  0.894592080  0.872386830  \n",
              "132 -0.669710094 -0.691202648 -0.708954459 -0.723030725 -0.733576064  "
            ],
            "text/html": [
              "\n",
              "  <div id=\"df-0295e6ce-3c44-4eeb-809a-bd3412043444\">\n",
              "    <div class=\"colab-df-container\">\n",
              "      <div>\n",
              "<style scoped>\n",
              "    .dataframe tbody tr th:only-of-type {\n",
              "        vertical-align: middle;\n",
              "    }\n",
              "\n",
              "    .dataframe tbody tr th {\n",
              "        vertical-align: top;\n",
              "    }\n",
              "\n",
              "    .dataframe thead th {\n",
              "        text-align: right;\n",
              "    }\n",
              "</style>\n",
              "<table border=\"1\" class=\"dataframe\">\n",
              "  <thead>\n",
              "    <tr style=\"text-align: right;\">\n",
              "      <th></th>\n",
              "      <th>educ</th>\n",
              "      <th>educ2</th>\n",
              "      <th>educ3</th>\n",
              "      <th>educ4</th>\n",
              "      <th>educ5</th>\n",
              "      <th>age</th>\n",
              "      <th>age2</th>\n",
              "      <th>age3</th>\n",
              "      <th>age4</th>\n",
              "      <th>age5</th>\n",
              "    </tr>\n",
              "  </thead>\n",
              "  <tbody>\n",
              "    <tr>\n",
              "      <th>932</th>\n",
              "      <td>-0.668851432</td>\n",
              "      <td>-0.681388997</td>\n",
              "      <td>-0.683464913</td>\n",
              "      <td>-0.677116289</td>\n",
              "      <td>-0.664267790</td>\n",
              "      <td>-1.635538791</td>\n",
              "      <td>-1.547054434</td>\n",
              "      <td>-1.463051451</td>\n",
              "      <td>-1.383830053</td>\n",
              "      <td>-1.309576548</td>\n",
              "    </tr>\n",
              "    <tr>\n",
              "      <th>82</th>\n",
              "      <td>-1.124332925</td>\n",
              "      <td>-1.052592807</td>\n",
              "      <td>-0.979773083</td>\n",
              "      <td>-0.909222938</td>\n",
              "      <td>-0.842975373</td>\n",
              "      <td>1.261947299</td>\n",
              "      <td>1.281608249</td>\n",
              "      <td>1.297930532</td>\n",
              "      <td>1.310810186</td>\n",
              "      <td>1.320210924</td>\n",
              "    </tr>\n",
              "    <tr>\n",
              "      <th>370</th>\n",
              "      <td>1.608556030</td>\n",
              "      <td>1.658808933</td>\n",
              "      <td>1.693717756</td>\n",
              "      <td>1.713829725</td>\n",
              "      <td>1.719745242</td>\n",
              "      <td>1.583890197</td>\n",
              "      <td>1.644257311</td>\n",
              "      <td>1.703790362</td>\n",
              "      <td>1.762179355</td>\n",
              "      <td>1.819155717</td>\n",
              "    </tr>\n",
              "    <tr>\n",
              "      <th>452</th>\n",
              "      <td>-0.668851432</td>\n",
              "      <td>-0.681388997</td>\n",
              "      <td>-0.683464913</td>\n",
              "      <td>-0.677116289</td>\n",
              "      <td>-0.664267790</td>\n",
              "      <td>0.940004400</td>\n",
              "      <td>0.928629829</td>\n",
              "      <td>0.913426682</td>\n",
              "      <td>0.894592080</td>\n",
              "      <td>0.872386830</td>\n",
              "    </tr>\n",
              "    <tr>\n",
              "      <th>132</th>\n",
              "      <td>-0.668851432</td>\n",
              "      <td>-0.681388997</td>\n",
              "      <td>-0.683464913</td>\n",
              "      <td>-0.677116289</td>\n",
              "      <td>-0.664267790</td>\n",
              "      <td>-0.669710094</td>\n",
              "      <td>-0.691202648</td>\n",
              "      <td>-0.708954459</td>\n",
              "      <td>-0.723030725</td>\n",
              "      <td>-0.733576064</td>\n",
              "    </tr>\n",
              "  </tbody>\n",
              "</table>\n",
              "</div>\n",
              "      <button class=\"colab-df-convert\" onclick=\"convertToInteractive('df-0295e6ce-3c44-4eeb-809a-bd3412043444')\"\n",
              "              title=\"Convert this dataframe to an interactive table.\"\n",
              "              style=\"display:none;\">\n",
              "        \n",
              "  <svg xmlns=\"http://www.w3.org/2000/svg\" height=\"24px\"viewBox=\"0 0 24 24\"\n",
              "       width=\"24px\">\n",
              "    <path d=\"M0 0h24v24H0V0z\" fill=\"none\"/>\n",
              "    <path d=\"M18.56 5.44l.94 2.06.94-2.06 2.06-.94-2.06-.94-.94-2.06-.94 2.06-2.06.94zm-11 1L8.5 8.5l.94-2.06 2.06-.94-2.06-.94L8.5 2.5l-.94 2.06-2.06.94zm10 10l.94 2.06.94-2.06 2.06-.94-2.06-.94-.94-2.06-.94 2.06-2.06.94z\"/><path d=\"M17.41 7.96l-1.37-1.37c-.4-.4-.92-.59-1.43-.59-.52 0-1.04.2-1.43.59L10.3 9.45l-7.72 7.72c-.78.78-.78 2.05 0 2.83L4 21.41c.39.39.9.59 1.41.59.51 0 1.02-.2 1.41-.59l7.78-7.78 2.81-2.81c.8-.78.8-2.07 0-2.86zM5.41 20L4 18.59l7.72-7.72 1.47 1.35L5.41 20z\"/>\n",
              "  </svg>\n",
              "      </button>\n",
              "      \n",
              "  <style>\n",
              "    .colab-df-container {\n",
              "      display:flex;\n",
              "      flex-wrap:wrap;\n",
              "      gap: 12px;\n",
              "    }\n",
              "\n",
              "    .colab-df-convert {\n",
              "      background-color: #E8F0FE;\n",
              "      border: none;\n",
              "      border-radius: 50%;\n",
              "      cursor: pointer;\n",
              "      display: none;\n",
              "      fill: #1967D2;\n",
              "      height: 32px;\n",
              "      padding: 0 0 0 0;\n",
              "      width: 32px;\n",
              "    }\n",
              "\n",
              "    .colab-df-convert:hover {\n",
              "      background-color: #E2EBFA;\n",
              "      box-shadow: 0px 1px 2px rgba(60, 64, 67, 0.3), 0px 1px 3px 1px rgba(60, 64, 67, 0.15);\n",
              "      fill: #174EA6;\n",
              "    }\n",
              "\n",
              "    [theme=dark] .colab-df-convert {\n",
              "      background-color: #3B4455;\n",
              "      fill: #D2E3FC;\n",
              "    }\n",
              "\n",
              "    [theme=dark] .colab-df-convert:hover {\n",
              "      background-color: #434B5C;\n",
              "      box-shadow: 0px 1px 3px 1px rgba(0, 0, 0, 0.15);\n",
              "      filter: drop-shadow(0px 1px 2px rgba(0, 0, 0, 0.3));\n",
              "      fill: #FFFFFF;\n",
              "    }\n",
              "  </style>\n",
              "\n",
              "      <script>\n",
              "        const buttonEl =\n",
              "          document.querySelector('#df-0295e6ce-3c44-4eeb-809a-bd3412043444 button.colab-df-convert');\n",
              "        buttonEl.style.display =\n",
              "          google.colab.kernel.accessAllowed ? 'block' : 'none';\n",
              "\n",
              "        async function convertToInteractive(key) {\n",
              "          const element = document.querySelector('#df-0295e6ce-3c44-4eeb-809a-bd3412043444');\n",
              "          const dataTable =\n",
              "            await google.colab.kernel.invokeFunction('convertToInteractive',\n",
              "                                                     [key], {});\n",
              "          if (!dataTable) return;\n",
              "\n",
              "          const docLinkHtml = 'Like what you see? Visit the ' +\n",
              "            '<a target=\"_blank\" href=https://colab.research.google.com/notebooks/data_table.ipynb>data table notebook</a>'\n",
              "            + ' to learn more about interactive tables.';\n",
              "          element.innerHTML = '';\n",
              "          dataTable['output_type'] = 'display_data';\n",
              "          await google.colab.output.renderOutput(dataTable, element);\n",
              "          const docLink = document.createElement('div');\n",
              "          docLink.innerHTML = docLinkHtml;\n",
              "          element.appendChild(docLink);\n",
              "        }\n",
              "      </script>\n",
              "    </div>\n",
              "  </div>\n",
              "  "
            ]
          },
          "metadata": {},
          "execution_count": 97
        }
      ]
    },
    {
      "cell_type": "markdown",
      "source": [
        "###OLS benchmark"
      ],
      "metadata": {
        "id": "a27R5IH1OFOn"
      }
    },
    {
      "cell_type": "code",
      "source": [
        "# run OLS model using statsmodel.api as a baseliine\n",
        "X_train_wc = sm.add_constant(X_train)\n",
        "\n",
        "model = sm.OLS(y_train, X_train_wc)\n",
        "results = model.fit()\n",
        "print(results.summary())"
      ],
      "metadata": {
        "colab": {
          "base_uri": "https://localhost:8080/"
        },
        "id": "LLqNr1kvNkVt",
        "outputId": "f728d2dc-4a02-4753-cb2b-1c244ac4f61d"
      },
      "execution_count": 98,
      "outputs": [
        {
          "output_type": "stream",
          "name": "stdout",
          "text": [
            "                            OLS Regression Results                            \n",
            "==============================================================================\n",
            "Dep. Variable:                   wage   R-squared:                       0.128\n",
            "Model:                            OLS   Adj. R-squared:                  0.116\n",
            "Method:                 Least Squares   F-statistic:                     10.81\n",
            "Date:                Fri, 07 Oct 2022   Prob (F-statistic):           2.83e-17\n",
            "Time:                        01:24:47   Log-Likelihood:                -1016.0\n",
            "No. Observations:                 748   AIC:                             2054.\n",
            "Df Residuals:                     737   BIC:                             2105.\n",
            "Df Model:                          10                                         \n",
            "Covariance Type:            nonrobust                                         \n",
            "==============================================================================\n",
            "                 coef    std err          t      P>|t|      [0.025      0.975]\n",
            "------------------------------------------------------------------------------\n",
            "const         -0.0028      0.035     -0.080      0.937      -0.071       0.065\n",
            "educ        -109.9917    192.003     -0.573      0.567    -486.931     266.947\n",
            "educ2        462.5622    824.114      0.561      0.575   -1155.328    2080.452\n",
            "educ3       -736.3809   1339.181     -0.550      0.583   -3365.445    1892.684\n",
            "educ4        527.4761    974.843      0.541      0.589   -1386.323    2441.276\n",
            "educ5       -143.4145    267.848     -0.535      0.593    -669.250     382.421\n",
            "age        -1295.3370   4397.692     -0.295      0.768   -9928.834    7338.160\n",
            "age2        5164.4620   1.79e+04      0.289      0.773   -2.99e+04    4.03e+04\n",
            "age3       -7783.0117   2.73e+04     -0.285      0.776   -6.15e+04    4.59e+04\n",
            "age4        5255.0538   1.87e+04      0.282      0.778   -3.14e+04    4.19e+04\n",
            "age5       -1341.0610   4794.082     -0.280      0.780   -1.08e+04    8070.622\n",
            "==============================================================================\n",
            "Omnibus:                      202.208   Durbin-Watson:                   1.936\n",
            "Prob(Omnibus):                  0.000   Jarque-Bera (JB):              653.255\n",
            "Skew:                           1.286   Prob(JB):                    1.40e-142\n",
            "Kurtosis:                       6.787   Cond. No.                     2.44e+06\n",
            "==============================================================================\n",
            "\n",
            "Notes:\n",
            "[1] Standard Errors assume that the covariance matrix of the errors is correctly specified.\n",
            "[2] The condition number is large, 2.44e+06. This might indicate that there are\n",
            "strong multicollinearity or other numerical problems.\n"
          ]
        }
      ]
    },
    {
      "cell_type": "markdown",
      "source": [
        "our OLS model gives a baseline R^2 of 12.8%. None of our features appear to be significant at any acceptable level. "
      ],
      "metadata": {
        "id": "h-Nd0GzNQ66n"
      }
    },
    {
      "cell_type": "markdown",
      "source": [
        "##Regularization"
      ],
      "metadata": {
        "id": "xp73EXkSRPZo"
      }
    },
    {
      "cell_type": "code",
      "source": [
        "#default parameters (alpha=1)\n",
        "model_linear = LinearRegression()\n",
        "model_ridge = Ridge()\n",
        "model_lasso = Lasso()\n",
        "model_net = ElasticNet() "
      ],
      "metadata": {
        "id": "AVSPb73qRUNx"
      },
      "execution_count": null,
      "outputs": []
    },
    {
      "cell_type": "code",
      "source": [
        "#obtain predictions across models\n",
        "y_hat_linear= model_linear.fit(X_train, y_train).predict(X_test)\n",
        "y_hat_ridge = model_ridge.fit(X_train, y_train).predict(X_test)\n",
        "y_hat_lasso = model_lasso.fit(X_train, y_train).predict(X_test)\n",
        "y_hat_net   = model_net.fit(X_train, y_train).predict(X_test)"
      ],
      "metadata": {
        "id": "2scnnYghRkxU"
      },
      "execution_count": null,
      "outputs": []
    },
    {
      "cell_type": "code",
      "source": [
        "#create new dataframe with each model predictions \n",
        "df_predictions = pd.DataFrame({'y_test':y_test,\n",
        "                               'y_hat_linear':y_hat_linear,\n",
        "                               'y_hat_ridge':y_hat_ridge,\n",
        "                               'y_hat_lasso':y_hat_lasso,\n",
        "                               'y_hat_net':y_hat_net})\n",
        "df_predictions.head()"
      ],
      "metadata": {
        "colab": {
          "base_uri": "https://localhost:8080/",
          "height": 206
        },
        "id": "pYIYGbn8RvUe",
        "outputId": "534f9cc9-98b0-41c9-d363-0782cd812edb"
      },
      "execution_count": null,
      "outputs": [
        {
          "output_type": "execute_result",
          "data": {
            "text/plain": [
              "          y_test  y_hat_linear  y_hat_ridge  y_hat_lasso    y_hat_net\n",
              "434  0.042199125  -0.267170051 -0.202696083 -0.012852129 -0.012852129\n",
              "238  1.910342687   0.699718112  0.704007378 -0.012852129 -0.012852129\n",
              "531 -0.700109575  -0.065042139  0.045578674 -0.012852129 -0.012852129\n",
              "157  2.328509922   0.689507991  0.653409971 -0.012852129 -0.012852129\n",
              "601  1.341239351   0.208652254  0.171149260 -0.012852129 -0.012852129"
            ],
            "text/html": [
              "\n",
              "  <div id=\"df-d11f31be-02a1-46bd-9ee7-dc30ae7762da\">\n",
              "    <div class=\"colab-df-container\">\n",
              "      <div>\n",
              "<style scoped>\n",
              "    .dataframe tbody tr th:only-of-type {\n",
              "        vertical-align: middle;\n",
              "    }\n",
              "\n",
              "    .dataframe tbody tr th {\n",
              "        vertical-align: top;\n",
              "    }\n",
              "\n",
              "    .dataframe thead th {\n",
              "        text-align: right;\n",
              "    }\n",
              "</style>\n",
              "<table border=\"1\" class=\"dataframe\">\n",
              "  <thead>\n",
              "    <tr style=\"text-align: right;\">\n",
              "      <th></th>\n",
              "      <th>y_test</th>\n",
              "      <th>y_hat_linear</th>\n",
              "      <th>y_hat_ridge</th>\n",
              "      <th>y_hat_lasso</th>\n",
              "      <th>y_hat_net</th>\n",
              "    </tr>\n",
              "  </thead>\n",
              "  <tbody>\n",
              "    <tr>\n",
              "      <th>434</th>\n",
              "      <td>0.042199125</td>\n",
              "      <td>-0.267170051</td>\n",
              "      <td>-0.202696083</td>\n",
              "      <td>-0.012852129</td>\n",
              "      <td>-0.012852129</td>\n",
              "    </tr>\n",
              "    <tr>\n",
              "      <th>238</th>\n",
              "      <td>1.910342687</td>\n",
              "      <td>0.699718112</td>\n",
              "      <td>0.704007378</td>\n",
              "      <td>-0.012852129</td>\n",
              "      <td>-0.012852129</td>\n",
              "    </tr>\n",
              "    <tr>\n",
              "      <th>531</th>\n",
              "      <td>-0.700109575</td>\n",
              "      <td>-0.065042139</td>\n",
              "      <td>0.045578674</td>\n",
              "      <td>-0.012852129</td>\n",
              "      <td>-0.012852129</td>\n",
              "    </tr>\n",
              "    <tr>\n",
              "      <th>157</th>\n",
              "      <td>2.328509922</td>\n",
              "      <td>0.689507991</td>\n",
              "      <td>0.653409971</td>\n",
              "      <td>-0.012852129</td>\n",
              "      <td>-0.012852129</td>\n",
              "    </tr>\n",
              "    <tr>\n",
              "      <th>601</th>\n",
              "      <td>1.341239351</td>\n",
              "      <td>0.208652254</td>\n",
              "      <td>0.171149260</td>\n",
              "      <td>-0.012852129</td>\n",
              "      <td>-0.012852129</td>\n",
              "    </tr>\n",
              "  </tbody>\n",
              "</table>\n",
              "</div>\n",
              "      <button class=\"colab-df-convert\" onclick=\"convertToInteractive('df-d11f31be-02a1-46bd-9ee7-dc30ae7762da')\"\n",
              "              title=\"Convert this dataframe to an interactive table.\"\n",
              "              style=\"display:none;\">\n",
              "        \n",
              "  <svg xmlns=\"http://www.w3.org/2000/svg\" height=\"24px\"viewBox=\"0 0 24 24\"\n",
              "       width=\"24px\">\n",
              "    <path d=\"M0 0h24v24H0V0z\" fill=\"none\"/>\n",
              "    <path d=\"M18.56 5.44l.94 2.06.94-2.06 2.06-.94-2.06-.94-.94-2.06-.94 2.06-2.06.94zm-11 1L8.5 8.5l.94-2.06 2.06-.94-2.06-.94L8.5 2.5l-.94 2.06-2.06.94zm10 10l.94 2.06.94-2.06 2.06-.94-2.06-.94-.94-2.06-.94 2.06-2.06.94z\"/><path d=\"M17.41 7.96l-1.37-1.37c-.4-.4-.92-.59-1.43-.59-.52 0-1.04.2-1.43.59L10.3 9.45l-7.72 7.72c-.78.78-.78 2.05 0 2.83L4 21.41c.39.39.9.59 1.41.59.51 0 1.02-.2 1.41-.59l7.78-7.78 2.81-2.81c.8-.78.8-2.07 0-2.86zM5.41 20L4 18.59l7.72-7.72 1.47 1.35L5.41 20z\"/>\n",
              "  </svg>\n",
              "      </button>\n",
              "      \n",
              "  <style>\n",
              "    .colab-df-container {\n",
              "      display:flex;\n",
              "      flex-wrap:wrap;\n",
              "      gap: 12px;\n",
              "    }\n",
              "\n",
              "    .colab-df-convert {\n",
              "      background-color: #E8F0FE;\n",
              "      border: none;\n",
              "      border-radius: 50%;\n",
              "      cursor: pointer;\n",
              "      display: none;\n",
              "      fill: #1967D2;\n",
              "      height: 32px;\n",
              "      padding: 0 0 0 0;\n",
              "      width: 32px;\n",
              "    }\n",
              "\n",
              "    .colab-df-convert:hover {\n",
              "      background-color: #E2EBFA;\n",
              "      box-shadow: 0px 1px 2px rgba(60, 64, 67, 0.3), 0px 1px 3px 1px rgba(60, 64, 67, 0.15);\n",
              "      fill: #174EA6;\n",
              "    }\n",
              "\n",
              "    [theme=dark] .colab-df-convert {\n",
              "      background-color: #3B4455;\n",
              "      fill: #D2E3FC;\n",
              "    }\n",
              "\n",
              "    [theme=dark] .colab-df-convert:hover {\n",
              "      background-color: #434B5C;\n",
              "      box-shadow: 0px 1px 3px 1px rgba(0, 0, 0, 0.15);\n",
              "      filter: drop-shadow(0px 1px 2px rgba(0, 0, 0, 0.3));\n",
              "      fill: #FFFFFF;\n",
              "    }\n",
              "  </style>\n",
              "\n",
              "      <script>\n",
              "        const buttonEl =\n",
              "          document.querySelector('#df-d11f31be-02a1-46bd-9ee7-dc30ae7762da button.colab-df-convert');\n",
              "        buttonEl.style.display =\n",
              "          google.colab.kernel.accessAllowed ? 'block' : 'none';\n",
              "\n",
              "        async function convertToInteractive(key) {\n",
              "          const element = document.querySelector('#df-d11f31be-02a1-46bd-9ee7-dc30ae7762da');\n",
              "          const dataTable =\n",
              "            await google.colab.kernel.invokeFunction('convertToInteractive',\n",
              "                                                     [key], {});\n",
              "          if (!dataTable) return;\n",
              "\n",
              "          const docLinkHtml = 'Like what you see? Visit the ' +\n",
              "            '<a target=\"_blank\" href=https://colab.research.google.com/notebooks/data_table.ipynb>data table notebook</a>'\n",
              "            + ' to learn more about interactive tables.';\n",
              "          element.innerHTML = '';\n",
              "          dataTable['output_type'] = 'display_data';\n",
              "          await google.colab.output.renderOutput(dataTable, element);\n",
              "          const docLink = document.createElement('div');\n",
              "          docLink.innerHTML = docLinkHtml;\n",
              "          element.appendChild(docLink);\n",
              "        }\n",
              "      </script>\n",
              "    </div>\n",
              "  </div>\n",
              "  "
            ]
          },
          "metadata": {},
          "execution_count": 108
        }
      ]
    },
    {
      "cell_type": "markdown",
      "source": [
        "###coefficients dataframe"
      ],
      "metadata": {
        "id": "dK54jY96SBck"
      }
    },
    {
      "cell_type": "code",
      "source": [
        "df.drop('wage', axis=1, inplace=False).columns"
      ],
      "metadata": {
        "colab": {
          "base_uri": "https://localhost:8080/"
        },
        "id": "KtEJcFa0R4Ow",
        "outputId": "1a496b7e-5754-41c1-cde3-f4e4c40fa025"
      },
      "execution_count": null,
      "outputs": [
        {
          "output_type": "execute_result",
          "data": {
            "text/plain": [
              "Index(['educ', 'educ2', 'educ3', 'educ4', 'educ5', 'age', 'age2', 'age3',\n",
              "       'age4', 'age5'],\n",
              "      dtype='object')"
            ]
          },
          "metadata": {},
          "execution_count": 109
        }
      ]
    },
    {
      "cell_type": "code",
      "source": [
        "coefficients = pd.DataFrame({'Features':df.drop('wage', axis=1, inplace=False).columns})\n",
        "coefficients['model_linear']= model_linear.coef_\n",
        "coefficients['model_ridge']= model_ridge.coef_\n",
        "coefficients['model_lasso']= model_lasso.coef_\n",
        "coefficients['model_net']= model_net.coef_\n",
        "coefficients"
      ],
      "metadata": {
        "colab": {
          "base_uri": "https://localhost:8080/",
          "height": 363
        },
        "id": "Wvf-5UoqSHrR",
        "outputId": "e9338cfd-5f53-4da4-ad1f-29996a25e9af"
      },
      "execution_count": 99,
      "outputs": [
        {
          "output_type": "execute_result",
          "data": {
            "text/plain": [
              "  Features    model_linear  model_ridge  model_lasso   model_net\n",
              "0     educ  -109.991744851  0.169171676  0.000000000 0.000000000\n",
              "1    educ2   462.562173563  0.309854489  0.000000000 0.000000000\n",
              "2    educ3  -736.380870132  0.232209320  0.000000000 0.000000000\n",
              "3    educ4   527.476085430 -0.016856627  0.000000000 0.000000000\n",
              "4    educ5  -143.414487192 -0.393124322  0.000000000 0.000000000\n",
              "5      age -1295.337038336  0.005242399  0.000000000 0.000000000\n",
              "6     age2  5164.461987880  0.136965548  0.000000000 0.000000000\n",
              "7     age3 -7783.011658128  0.147814000  0.000000000 0.000000000\n",
              "8     age4  5255.053774676  0.043936021  0.000000000 0.000000000\n",
              "9     age5 -1341.061042348 -0.166490033  0.000000000 0.000000000"
            ],
            "text/html": [
              "\n",
              "  <div id=\"df-24d760a8-b40f-492b-be09-03fa0e47cc0f\">\n",
              "    <div class=\"colab-df-container\">\n",
              "      <div>\n",
              "<style scoped>\n",
              "    .dataframe tbody tr th:only-of-type {\n",
              "        vertical-align: middle;\n",
              "    }\n",
              "\n",
              "    .dataframe tbody tr th {\n",
              "        vertical-align: top;\n",
              "    }\n",
              "\n",
              "    .dataframe thead th {\n",
              "        text-align: right;\n",
              "    }\n",
              "</style>\n",
              "<table border=\"1\" class=\"dataframe\">\n",
              "  <thead>\n",
              "    <tr style=\"text-align: right;\">\n",
              "      <th></th>\n",
              "      <th>Features</th>\n",
              "      <th>model_linear</th>\n",
              "      <th>model_ridge</th>\n",
              "      <th>model_lasso</th>\n",
              "      <th>model_net</th>\n",
              "    </tr>\n",
              "  </thead>\n",
              "  <tbody>\n",
              "    <tr>\n",
              "      <th>0</th>\n",
              "      <td>educ</td>\n",
              "      <td>-109.991744851</td>\n",
              "      <td>0.169171676</td>\n",
              "      <td>0.000000000</td>\n",
              "      <td>0.000000000</td>\n",
              "    </tr>\n",
              "    <tr>\n",
              "      <th>1</th>\n",
              "      <td>educ2</td>\n",
              "      <td>462.562173563</td>\n",
              "      <td>0.309854489</td>\n",
              "      <td>0.000000000</td>\n",
              "      <td>0.000000000</td>\n",
              "    </tr>\n",
              "    <tr>\n",
              "      <th>2</th>\n",
              "      <td>educ3</td>\n",
              "      <td>-736.380870132</td>\n",
              "      <td>0.232209320</td>\n",
              "      <td>0.000000000</td>\n",
              "      <td>0.000000000</td>\n",
              "    </tr>\n",
              "    <tr>\n",
              "      <th>3</th>\n",
              "      <td>educ4</td>\n",
              "      <td>527.476085430</td>\n",
              "      <td>-0.016856627</td>\n",
              "      <td>0.000000000</td>\n",
              "      <td>0.000000000</td>\n",
              "    </tr>\n",
              "    <tr>\n",
              "      <th>4</th>\n",
              "      <td>educ5</td>\n",
              "      <td>-143.414487192</td>\n",
              "      <td>-0.393124322</td>\n",
              "      <td>0.000000000</td>\n",
              "      <td>0.000000000</td>\n",
              "    </tr>\n",
              "    <tr>\n",
              "      <th>5</th>\n",
              "      <td>age</td>\n",
              "      <td>-1295.337038336</td>\n",
              "      <td>0.005242399</td>\n",
              "      <td>0.000000000</td>\n",
              "      <td>0.000000000</td>\n",
              "    </tr>\n",
              "    <tr>\n",
              "      <th>6</th>\n",
              "      <td>age2</td>\n",
              "      <td>5164.461987880</td>\n",
              "      <td>0.136965548</td>\n",
              "      <td>0.000000000</td>\n",
              "      <td>0.000000000</td>\n",
              "    </tr>\n",
              "    <tr>\n",
              "      <th>7</th>\n",
              "      <td>age3</td>\n",
              "      <td>-7783.011658128</td>\n",
              "      <td>0.147814000</td>\n",
              "      <td>0.000000000</td>\n",
              "      <td>0.000000000</td>\n",
              "    </tr>\n",
              "    <tr>\n",
              "      <th>8</th>\n",
              "      <td>age4</td>\n",
              "      <td>5255.053774676</td>\n",
              "      <td>0.043936021</td>\n",
              "      <td>0.000000000</td>\n",
              "      <td>0.000000000</td>\n",
              "    </tr>\n",
              "    <tr>\n",
              "      <th>9</th>\n",
              "      <td>age5</td>\n",
              "      <td>-1341.061042348</td>\n",
              "      <td>-0.166490033</td>\n",
              "      <td>0.000000000</td>\n",
              "      <td>0.000000000</td>\n",
              "    </tr>\n",
              "  </tbody>\n",
              "</table>\n",
              "</div>\n",
              "      <button class=\"colab-df-convert\" onclick=\"convertToInteractive('df-24d760a8-b40f-492b-be09-03fa0e47cc0f')\"\n",
              "              title=\"Convert this dataframe to an interactive table.\"\n",
              "              style=\"display:none;\">\n",
              "        \n",
              "  <svg xmlns=\"http://www.w3.org/2000/svg\" height=\"24px\"viewBox=\"0 0 24 24\"\n",
              "       width=\"24px\">\n",
              "    <path d=\"M0 0h24v24H0V0z\" fill=\"none\"/>\n",
              "    <path d=\"M18.56 5.44l.94 2.06.94-2.06 2.06-.94-2.06-.94-.94-2.06-.94 2.06-2.06.94zm-11 1L8.5 8.5l.94-2.06 2.06-.94-2.06-.94L8.5 2.5l-.94 2.06-2.06.94zm10 10l.94 2.06.94-2.06 2.06-.94-2.06-.94-.94-2.06-.94 2.06-2.06.94z\"/><path d=\"M17.41 7.96l-1.37-1.37c-.4-.4-.92-.59-1.43-.59-.52 0-1.04.2-1.43.59L10.3 9.45l-7.72 7.72c-.78.78-.78 2.05 0 2.83L4 21.41c.39.39.9.59 1.41.59.51 0 1.02-.2 1.41-.59l7.78-7.78 2.81-2.81c.8-.78.8-2.07 0-2.86zM5.41 20L4 18.59l7.72-7.72 1.47 1.35L5.41 20z\"/>\n",
              "  </svg>\n",
              "      </button>\n",
              "      \n",
              "  <style>\n",
              "    .colab-df-container {\n",
              "      display:flex;\n",
              "      flex-wrap:wrap;\n",
              "      gap: 12px;\n",
              "    }\n",
              "\n",
              "    .colab-df-convert {\n",
              "      background-color: #E8F0FE;\n",
              "      border: none;\n",
              "      border-radius: 50%;\n",
              "      cursor: pointer;\n",
              "      display: none;\n",
              "      fill: #1967D2;\n",
              "      height: 32px;\n",
              "      padding: 0 0 0 0;\n",
              "      width: 32px;\n",
              "    }\n",
              "\n",
              "    .colab-df-convert:hover {\n",
              "      background-color: #E2EBFA;\n",
              "      box-shadow: 0px 1px 2px rgba(60, 64, 67, 0.3), 0px 1px 3px 1px rgba(60, 64, 67, 0.15);\n",
              "      fill: #174EA6;\n",
              "    }\n",
              "\n",
              "    [theme=dark] .colab-df-convert {\n",
              "      background-color: #3B4455;\n",
              "      fill: #D2E3FC;\n",
              "    }\n",
              "\n",
              "    [theme=dark] .colab-df-convert:hover {\n",
              "      background-color: #434B5C;\n",
              "      box-shadow: 0px 1px 3px 1px rgba(0, 0, 0, 0.15);\n",
              "      filter: drop-shadow(0px 1px 2px rgba(0, 0, 0, 0.3));\n",
              "      fill: #FFFFFF;\n",
              "    }\n",
              "  </style>\n",
              "\n",
              "      <script>\n",
              "        const buttonEl =\n",
              "          document.querySelector('#df-24d760a8-b40f-492b-be09-03fa0e47cc0f button.colab-df-convert');\n",
              "        buttonEl.style.display =\n",
              "          google.colab.kernel.accessAllowed ? 'block' : 'none';\n",
              "\n",
              "        async function convertToInteractive(key) {\n",
              "          const element = document.querySelector('#df-24d760a8-b40f-492b-be09-03fa0e47cc0f');\n",
              "          const dataTable =\n",
              "            await google.colab.kernel.invokeFunction('convertToInteractive',\n",
              "                                                     [key], {});\n",
              "          if (!dataTable) return;\n",
              "\n",
              "          const docLinkHtml = 'Like what you see? Visit the ' +\n",
              "            '<a target=\"_blank\" href=https://colab.research.google.com/notebooks/data_table.ipynb>data table notebook</a>'\n",
              "            + ' to learn more about interactive tables.';\n",
              "          element.innerHTML = '';\n",
              "          dataTable['output_type'] = 'display_data';\n",
              "          await google.colab.output.renderOutput(dataTable, element);\n",
              "          const docLink = document.createElement('div');\n",
              "          docLink.innerHTML = docLinkHtml;\n",
              "          element.appendChild(docLink);\n",
              "        }\n",
              "      </script>\n",
              "    </div>\n",
              "  </div>\n",
              "  "
            ]
          },
          "metadata": {},
          "execution_count": 99
        }
      ]
    },
    {
      "cell_type": "markdown",
      "source": [
        "Our lasso and elastic net coefficients are 0 because the penalty assessed in those models is larger than ridge and over-penalizes them at the default alpha. "
      ],
      "metadata": {
        "id": "fvwJX6Z4SlWm"
      }
    },
    {
      "cell_type": "markdown",
      "source": [
        "##Cross-Validation"
      ],
      "metadata": {
        "id": "VcenYMZvSpwT"
      }
    },
    {
      "cell_type": "code",
      "source": [
        "from sklearn.linear_model import RidgeCV, LassoCV, ElasticNetCV"
      ],
      "metadata": {
        "id": "SH9vo7WkTABn"
      },
      "execution_count": null,
      "outputs": []
    },
    {
      "cell_type": "markdown",
      "source": [
        "###Ridge"
      ],
      "metadata": {
        "id": "KLeKKlgiSz13"
      }
    },
    {
      "cell_type": "code",
      "source": [
        "#define set of alphas from 1-10000.....\n",
        "alpha_ridge = 10**np.linspace(0,5,100)\n",
        "#run CV for ridge\n",
        "ridgecv = RidgeCV(alphas=alpha_ridge)\n",
        "ridgecv.fit(X_train, y_train)\n",
        "ridgecv.alpha_"
      ],
      "metadata": {
        "colab": {
          "base_uri": "https://localhost:8080/"
        },
        "id": "BS6CQnlQSrlL",
        "outputId": "94298a72-dc95-46ab-ad7c-ad48661d9280"
      },
      "execution_count": null,
      "outputs": [
        {
          "output_type": "execute_result",
          "data": {
            "text/plain": [
              "12.91549665014884"
            ]
          },
          "metadata": {},
          "execution_count": 112
        }
      ]
    },
    {
      "cell_type": "markdown",
      "source": [
        "optimal alpha for ridge is 12.9"
      ],
      "metadata": {
        "id": "wXItM2U-Tka3"
      }
    },
    {
      "cell_type": "code",
      "source": [
        "alpha_ridge_opt = ridgecv.alpha_"
      ],
      "metadata": {
        "id": "ohYaYef0U6kk"
      },
      "execution_count": null,
      "outputs": []
    },
    {
      "cell_type": "markdown",
      "source": [
        "###Lasso "
      ],
      "metadata": {
        "id": "xju6m1u7TsxC"
      }
    },
    {
      "cell_type": "code",
      "source": [
        "lassocv = LassoCV()\n",
        "lassocv.fit(X_train, y_train)\n",
        "lassocv.alpha_"
      ],
      "metadata": {
        "colab": {
          "base_uri": "https://localhost:8080/"
        },
        "id": "n8bmEvRtTvxe",
        "outputId": "c58b8089-e660-4296-df6d-1da5213e4663"
      },
      "execution_count": null,
      "outputs": [
        {
          "output_type": "execute_result",
          "data": {
            "text/plain": [
              "0.010732138475800224"
            ]
          },
          "metadata": {},
          "execution_count": 114
        }
      ]
    },
    {
      "cell_type": "markdown",
      "source": [
        "optimal alpha for Lasso is 0.0107"
      ],
      "metadata": {
        "id": "6XVMscRzURMX"
      }
    },
    {
      "cell_type": "code",
      "source": [
        "alpha_lasso_opt = lassocv.alpha_"
      ],
      "metadata": {
        "id": "FfOHGAlmU3TR"
      },
      "execution_count": null,
      "outputs": []
    },
    {
      "cell_type": "markdown",
      "source": [
        "###ElasticNet"
      ],
      "metadata": {
        "id": "w0iZfdM3UU7t"
      }
    },
    {
      "cell_type": "code",
      "source": [
        "elasticnetcv = ElasticNetCV()\n",
        "elasticnetcv.fit(X_train, y_train)\n",
        "elasticnetcv.alpha_"
      ],
      "metadata": {
        "colab": {
          "base_uri": "https://localhost:8080/"
        },
        "id": "hD_FNn9lTv3o",
        "outputId": "bf346f58-daab-4e3f-da30-1ddc8187ab35"
      },
      "execution_count": null,
      "outputs": [
        {
          "output_type": "execute_result",
          "data": {
            "text/plain": [
              "0.010682821217946607"
            ]
          },
          "metadata": {},
          "execution_count": 116
        }
      ]
    },
    {
      "cell_type": "code",
      "source": [
        "alpha_elasticnet_opt = elasticnetcv.alpha_"
      ],
      "metadata": {
        "id": "Z6wYK_4YVEgD"
      },
      "execution_count": null,
      "outputs": []
    },
    {
      "cell_type": "code",
      "source": [
        "#ridge to lasso ratio\n",
        "elasticnetcv.l1_ratio_"
      ],
      "metadata": {
        "colab": {
          "base_uri": "https://localhost:8080/"
        },
        "id": "--wy8UJYVH0j",
        "outputId": "1de0a244-618d-494a-a45d-77c97be709df"
      },
      "execution_count": null,
      "outputs": [
        {
          "output_type": "execute_result",
          "data": {
            "text/plain": [
              "0.5"
            ]
          },
          "metadata": {},
          "execution_count": 118
        }
      ]
    },
    {
      "cell_type": "markdown",
      "source": [
        "##Test"
      ],
      "metadata": {
        "id": "6xc2dBdZVSw5"
      }
    },
    {
      "cell_type": "code",
      "source": [
        "#Re-train with optimized alpha\n",
        "model_ridge_opt = Ridge(alpha = alpha_ridge_opt)\n",
        "model_lasso_opt = Lasso(alpha = alpha_lasso_opt)\n",
        "model_net_opt = ElasticNet(alpha = alpha_elasticnet_opt) "
      ],
      "metadata": {
        "id": "WO0AWkc6VUtW"
      },
      "execution_count": null,
      "outputs": []
    },
    {
      "cell_type": "code",
      "source": [
        "#obtain predictions across models\n",
        "y_hat_linear_opt= model_linear.fit(X_train, y_train).predict(X_test)\n",
        "y_hat_ridge_opt = model_ridge_opt.fit(X_train, y_train).predict(X_test)\n",
        "y_hat_lasso_opt = model_lasso_opt.fit(X_train, y_train).predict(X_test)\n",
        "y_hat_net_opt   = model_net_opt.fit(X_train, y_train).predict(X_test)"
      ],
      "metadata": {
        "id": "8XWjTgJR66MZ"
      },
      "execution_count": null,
      "outputs": []
    },
    {
      "cell_type": "code",
      "source": [
        "df_predictions_optimal = pd.DataFrame({'y_test':y_test,\n",
        "                               'y_hat_linear_opt':y_hat_linear_opt,\n",
        "                               'y_hat_ridge_opt':y_hat_ridge_opt,\n",
        "                               'y_hat_lasso_opt':y_hat_lasso_opt,\n",
        "                               'y_hat_net_opt':y_hat_net_opt})"
      ],
      "metadata": {
        "id": "P6CiNkyU67dO"
      },
      "execution_count": null,
      "outputs": []
    },
    {
      "cell_type": "code",
      "source": [
        "RMSE_test_linear = np.sqrt(np.mean(np.square(df_predictions_optimal['y_test']-df_predictions_optimal['y_hat_linear_opt'])))\n",
        "RMSE_test_Ridge = np.sqrt(np.mean(np.square(df_predictions_optimal['y_test']-df_predictions_optimal['y_hat_ridge_opt'])))\n",
        "RMSE_test_LASSO = np.sqrt(np.mean(np.square(df_predictions_optimal['y_test']-df_predictions_optimal['y_hat_lasso_opt'])))\n",
        "RMSE_test_net = np.sqrt(np.mean(np.square(df_predictions_optimal['y_test']-df_predictions_optimal['y_hat_net_opt'])))\n",
        "RMSE_test_df = [RMSE_test_linear,RMSE_test_Ridge,RMSE_test_LASSO,RMSE_test_net]\n",
        "RMSE_test_df"
      ],
      "metadata": {
        "id": "X12RY73j7AMC",
        "colab": {
          "base_uri": "https://localhost:8080/"
        },
        "outputId": "0d637e44-f02c-4360-a523-f69fbf0ef744"
      },
      "execution_count": null,
      "outputs": [
        {
          "output_type": "execute_result",
          "data": {
            "text/plain": [
              "[0.8650244001011039,\n",
              " 0.8671047935707901,\n",
              " 0.8681611530299667,\n",
              " 0.8676093910065268]"
            ]
          },
          "metadata": {},
          "execution_count": 122
        }
      ]
    },
    {
      "cell_type": "markdown",
      "source": [
        "##Coefficients vs. Alpha "
      ],
      "metadata": {
        "id": "qThM_e9r0CAL"
      }
    },
    {
      "cell_type": "markdown",
      "source": [
        "###Ridge"
      ],
      "metadata": {
        "id": "yLwipNgN6sXz"
      }
    },
    {
      "cell_type": "code",
      "source": [
        "#ridge\n",
        "alpha_ridge = 10**np.linspace(-1,1)\n",
        "\n",
        "ridge = Ridge()\n",
        "coefs_ridge = []\n",
        "\n",
        "for i in alpha_ridge:\n",
        "    ridge.set_params(alpha = i).fit(X_train, y_train)\n",
        "    coefs_ridge.append(ridge.coef_)\n",
        "    \n",
        "np.shape(coefs_ridge)"
      ],
      "metadata": {
        "colab": {
          "base_uri": "https://localhost:8080/"
        },
        "id": "nMNsx6_p1hLI",
        "outputId": "2a6c9f87-3dbf-4f84-bb7f-235d6fbe97a4"
      },
      "execution_count": null,
      "outputs": [
        {
          "output_type": "execute_result",
          "data": {
            "text/plain": [
              "(50, 10)"
            ]
          },
          "metadata": {},
          "execution_count": 123
        }
      ]
    },
    {
      "cell_type": "code",
      "source": [
        "#ridge\n",
        "\n",
        "plt.figure(figsize=(12,10))\n",
        "ax = plt.gca()\n",
        "ax.plot(alpha_ridge, coefs_ridge)\n",
        "ax.set_xscale('log')\n",
        "plt.axis('tight')\n",
        "plt.xlabel('alpha')\n",
        "plt.ylabel('weights: scaled coefficients')\n",
        "plt.title('Ridge regression coefficients Vs. alpha')\n",
        "plt.legend(df.drop('wage',axis=1, inplace=False).columns)"
      ],
      "metadata": {
        "colab": {
          "base_uri": "https://localhost:8080/",
          "height": 652
        },
        "id": "bX2RDwQ60Gjj",
        "outputId": "996d1dab-8b5a-493e-9fd2-385f34a3f670"
      },
      "execution_count": null,
      "outputs": [
        {
          "output_type": "execute_result",
          "data": {
            "text/plain": [
              "<matplotlib.legend.Legend at 0x7fc164bf2510>"
            ]
          },
          "metadata": {},
          "execution_count": 124
        },
        {
          "output_type": "display_data",
          "data": {
            "text/plain": [
              "<Figure size 864x720 with 1 Axes>"
            ],
            "image/png": "[encoded data removed]"
          },
          "metadata": {}
        }
      ]
    },
    {
      "cell_type": "markdown",
      "source": [
        "In our plot we can see that *age4* and *age3* are decreasing to 0 faster than any other coefficent "
      ],
      "metadata": {
        "id": "854RmSg881kS"
      }
    },
    {
      "cell_type": "markdown",
      "source": [
        "###Lasso"
      ],
      "metadata": {
        "id": "wa9Kg6wE_6p6"
      }
    },
    {
      "cell_type": "code",
      "source": [
        "#Lasso \n",
        "alpha_lasso = 10**np.linspace(-4,2,100)\n",
        "\n",
        "lasso = Lasso()\n",
        "coefs_lasso = []\n",
        "\n",
        "for i in alpha_lasso:\n",
        "    lasso.set_params(alpha = i).fit(X_train, y_train)\n",
        "    coefs_lasso.append(lasso.coef_)\n",
        "    \n",
        "np.shape(coefs_lasso)"
      ],
      "metadata": {
        "id": "WaW0x5Yn2JDI",
        "colab": {
          "base_uri": "https://localhost:8080/"
        },
        "outputId": "101edb0e-1a43-4b14-e0a4-afd66b9dcb7e"
      },
      "execution_count": null,
      "outputs": [
        {
          "output_type": "execute_result",
          "data": {
            "text/plain": [
              "(100, 10)"
            ]
          },
          "metadata": {},
          "execution_count": 125
        }
      ]
    },
    {
      "cell_type": "code",
      "source": [
        "#lasso\n",
        "plt.figure(figsize=(12,10))\n",
        "ax = plt.gca()\n",
        "ax.plot(alpha_lasso, coefs_lasso)\n",
        "ax.set_xscale('log')\n",
        "plt.axis('tight')\n",
        "plt.xlabel('alpha')\n",
        "plt.ylabel('weights: scaled coefficients')\n",
        "plt.title('Lasso regression coefficients Vs. alpha')\n",
        "plt.legend(df.drop('wage',axis=1, inplace=False).columns)\n",
        "\n",
        "plt.show()"
      ],
      "metadata": {
        "id": "Vtxfktbq2N_t",
        "colab": {
          "base_uri": "https://localhost:8080/",
          "height": 634
        },
        "outputId": "8849b72b-b5d0-4b57-e8a8-1690b049e70d"
      },
      "execution_count": null,
      "outputs": [
        {
          "output_type": "display_data",
          "data": {
            "text/plain": [
              "<Figure size 864x720 with 1 Axes>"
            ],
            "image/png": "[encoded data removed]"
          },
          "metadata": {}
        }
      ]
    },
    {
      "cell_type": "markdown",
      "source": [
        "The only two variables that survive at alpha= 0.1 are *age* and *educ*. "
      ],
      "metadata": {
        "id": "1uUyKKJi-CbJ"
      }
    },
    {
      "cell_type": "markdown",
      "source": [
        "###Elastic net "
      ],
      "metadata": {
        "id": "_gUlCoA5_-dw"
      }
    },
    {
      "cell_type": "code",
      "source": [
        "#Elastic Net\n",
        "alpha_elasticnet = 10**np.linspace(-4,2,100)\n",
        "\n",
        "elasticnet = ElasticNet()\n",
        "coefs_elasticnet = []\n",
        "\n",
        "for i in alpha_elasticnet:\n",
        "    elasticnet.set_params(alpha = i).fit(X_train, y_train)\n",
        "    coefs_elasticnet.append(elasticnet.coef_)\n",
        "    \n",
        "np.shape(coefs_elasticnet)"
      ],
      "metadata": {
        "id": "sosSeb7g2gky",
        "colab": {
          "base_uri": "https://localhost:8080/"
        },
        "outputId": "6ee1823e-5519-4a91-9061-de90dda83d2b"
      },
      "execution_count": null,
      "outputs": [
        {
          "output_type": "execute_result",
          "data": {
            "text/plain": [
              "(100, 10)"
            ]
          },
          "metadata": {},
          "execution_count": 127
        }
      ]
    },
    {
      "cell_type": "code",
      "source": [
        "#Plotting Elastic Net \n",
        "plt.figure(figsize=(12,10))\n",
        "ax = plt.gca()\n",
        "ax.plot(alpha_elasticnet, coefs_elasticnet)\n",
        "ax.set_xscale('log')\n",
        "plt.axis('tight')\n",
        "plt.xlabel('alpha')\n",
        "plt.ylabel('weights: scaled coefficients')\n",
        "plt.title('Elastic Net regression coefficients Vs. alpha')\n",
        "plt.legend(df.drop('wage',axis=1, inplace=False).columns)\n",
        "\n",
        "plt.show()"
      ],
      "metadata": {
        "id": "egYV2L1L3cpa",
        "colab": {
          "base_uri": "https://localhost:8080/",
          "height": 634
        },
        "outputId": "85400800-56f2-46a0-89c5-9274c265b603"
      },
      "execution_count": null,
      "outputs": [
        {
          "output_type": "display_data",
          "data": {
            "text/plain": [
              "<Figure size 864x720 with 1 Axes>"
            ],
            "image/png": "[encoded data removed]"
          },
          "metadata": {}
        }
      ]
    },
    {
      "cell_type": "markdown",
      "source": [
        "The coefficiens on LASSO are larger than elastic net because we have the influence of our ridge model, which sends some coefficients towards 0 as opposed to dropping it completely. The penalty assessed to the coefficients in the ridge model are bigger than those in the LASSSO model for coefficientss with a magnitude less than 1. Because the ridge penalty is not incorporated in the LASSO model, but it is in elastic net, we would expect the coefficients of the LASSO model at this alpha level to be bigger."
      ],
      "metadata": {
        "id": "uU_c3eDq-34P"
      }
    },
    {
      "cell_type": "code",
      "source": [
        "%%shell\n",
        "jupyter nbconvert --to html /content/HW4_LinearRegression.ipynb"
      ],
      "metadata": {
        "id": "2li1LmJfEFG4"
      },
      "execution_count": null,
      "outputs": []
    }
  ]
}