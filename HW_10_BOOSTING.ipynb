{
 "cells": [
  {
   "cell_type": "markdown",
   "metadata": {
    "id": "97U45cv5Qd10"
   },
   "source": [
    "Nate, Erik, and Jake\n",
    "\n",
    "Group BadJ\n",
    "\n",
    "HW 9"
   ]
  },
  {
   "cell_type": "code",
   "execution_count": 4,
   "metadata": {
    "id": "stugrODtQy2f"
   },
   "outputs": [],
   "source": [
    "#Importing packages\n",
    "import numpy as np\n",
    "import pandas as pd\n",
    "import matplotlib.pyplot as plt\n",
    "import seaborn as sns\n",
    "sns.set()  #if you want to use seaborn themes with matplotlib functions\n",
    "import statsmodels.api as sm\n",
    "\n",
    "from sklearn.preprocessing import OrdinalEncoder\n",
    "from sklearn.model_selection import train_test_split\n",
    "from sklearn.ensemble import RandomForestRegressor\n",
    "from sklearn.ensemble import RandomForestClassifier\n",
    "from sklearn.model_selection import GridSearchCV\n",
    "from sklearn.model_selection import cross_val_score\n",
    "from sklearn.model_selection import GridSearchCV\n",
    "from sklearn.model_selection import cross_val_score\n",
    "from sklearn.metrics import accuracy_score, recall_score, precision_score, f1_score\n",
    "from sklearn.metrics import confusion_matrix, classification_report, roc_curve, roc_auc_score\n",
    "import statsmodels.api as sm\n",
    "\n",
    "import warnings\n",
    "warnings.filterwarnings('ignore')\n",
    "\n",
    "rand_state = 1000"
   ]
  },
  {
   "cell_type": "code",
   "execution_count": 5,
   "metadata": {
    "colab": {
     "base_uri": "https://localhost:8080/",
     "height": 337
    },
    "id": "ttJClagxQO_C",
    "outputId": "0bb3b41b-78a8-4bd4-d1b0-7ce3ce7ad3db"
   },
   "outputs": [
    {
     "data": {
      "text/html": [
       "<div>\n",
       "<style scoped>\n",
       "    .dataframe tbody tr th:only-of-type {\n",
       "        vertical-align: middle;\n",
       "    }\n",
       "\n",
       "    .dataframe tbody tr th {\n",
       "        vertical-align: top;\n",
       "    }\n",
       "\n",
       "    .dataframe thead th {\n",
       "        text-align: right;\n",
       "    }\n",
       "</style>\n",
       "<table border=\"1\" class=\"dataframe\">\n",
       "  <thead>\n",
       "    <tr style=\"text-align: right;\">\n",
       "      <th></th>\n",
       "      <th>season</th>\n",
       "      <th>yr</th>\n",
       "      <th>mnth</th>\n",
       "      <th>hr</th>\n",
       "      <th>holiday</th>\n",
       "      <th>weekday</th>\n",
       "      <th>notbizday</th>\n",
       "      <th>weathersit</th>\n",
       "      <th>temp</th>\n",
       "      <th>hum</th>\n",
       "      <th>windspeed</th>\n",
       "      <th>dteday</th>\n",
       "      <th>cnt</th>\n",
       "    </tr>\n",
       "  </thead>\n",
       "  <tbody>\n",
       "    <tr>\n",
       "      <th>0</th>\n",
       "      <td>1</td>\n",
       "      <td>0</td>\n",
       "      <td>1</td>\n",
       "      <td>0</td>\n",
       "      <td>0</td>\n",
       "      <td>6</td>\n",
       "      <td>1</td>\n",
       "      <td>1</td>\n",
       "      <td>-1.334609</td>\n",
       "      <td>0.947345</td>\n",
       "      <td>-1.553844</td>\n",
       "      <td>2011-01-01</td>\n",
       "      <td>16</td>\n",
       "    </tr>\n",
       "    <tr>\n",
       "      <th>1</th>\n",
       "      <td>1</td>\n",
       "      <td>0</td>\n",
       "      <td>1</td>\n",
       "      <td>1</td>\n",
       "      <td>0</td>\n",
       "      <td>6</td>\n",
       "      <td>1</td>\n",
       "      <td>1</td>\n",
       "      <td>-1.438475</td>\n",
       "      <td>0.895513</td>\n",
       "      <td>-1.553844</td>\n",
       "      <td>2011-01-01</td>\n",
       "      <td>40</td>\n",
       "    </tr>\n",
       "    <tr>\n",
       "      <th>2</th>\n",
       "      <td>1</td>\n",
       "      <td>0</td>\n",
       "      <td>1</td>\n",
       "      <td>2</td>\n",
       "      <td>0</td>\n",
       "      <td>6</td>\n",
       "      <td>1</td>\n",
       "      <td>1</td>\n",
       "      <td>-1.438475</td>\n",
       "      <td>0.895513</td>\n",
       "      <td>-1.553844</td>\n",
       "      <td>2011-01-01</td>\n",
       "      <td>32</td>\n",
       "    </tr>\n",
       "    <tr>\n",
       "      <th>3</th>\n",
       "      <td>1</td>\n",
       "      <td>0</td>\n",
       "      <td>1</td>\n",
       "      <td>3</td>\n",
       "      <td>0</td>\n",
       "      <td>6</td>\n",
       "      <td>1</td>\n",
       "      <td>1</td>\n",
       "      <td>-1.334609</td>\n",
       "      <td>0.636351</td>\n",
       "      <td>-1.553844</td>\n",
       "      <td>2011-01-01</td>\n",
       "      <td>13</td>\n",
       "    </tr>\n",
       "    <tr>\n",
       "      <th>4</th>\n",
       "      <td>1</td>\n",
       "      <td>0</td>\n",
       "      <td>1</td>\n",
       "      <td>4</td>\n",
       "      <td>0</td>\n",
       "      <td>6</td>\n",
       "      <td>1</td>\n",
       "      <td>1</td>\n",
       "      <td>-1.334609</td>\n",
       "      <td>0.636351</td>\n",
       "      <td>-1.553844</td>\n",
       "      <td>2011-01-01</td>\n",
       "      <td>1</td>\n",
       "    </tr>\n",
       "  </tbody>\n",
       "</table>\n",
       "</div>"
      ],
      "text/plain": [
       "   season  yr  mnth  hr  holiday  weekday  notbizday  weathersit      temp  \\\n",
       "0       1   0     1   0        0        6          1           1 -1.334609   \n",
       "1       1   0     1   1        0        6          1           1 -1.438475   \n",
       "2       1   0     1   2        0        6          1           1 -1.438475   \n",
       "3       1   0     1   3        0        6          1           1 -1.334609   \n",
       "4       1   0     1   4        0        6          1           1 -1.334609   \n",
       "\n",
       "        hum  windspeed      dteday  cnt  \n",
       "0  0.947345  -1.553844  2011-01-01   16  \n",
       "1  0.895513  -1.553844  2011-01-01   40  \n",
       "2  0.895513  -1.553844  2011-01-01   32  \n",
       "3  0.636351  -1.553844  2011-01-01   13  \n",
       "4  0.636351  -1.553844  2011-01-01    1  "
      ]
     },
     "execution_count": 5,
     "metadata": {},
     "output_type": "execute_result"
    }
   ],
   "source": [
    "#Pulling in the data\n",
    "df = pd.read_csv ('https://raw.githubusercontent.com/PJalgotrader/Machine_Learning-USU/fall22/data/HW_data/HW9/bikeshare.csv')\n",
    "df.head()"
   ]
  },
  {
   "cell_type": "code",
   "execution_count": 6,
   "metadata": {
    "id": "HO5zoYFdaD9i"
   },
   "outputs": [],
   "source": [
    "#I have been giggling too much, so I'm renaming this variable.\n",
    "df['count'] = df['cnt']"
   ]
  },
  {
   "cell_type": "code",
   "execution_count": 7,
   "metadata": {
    "colab": {
     "base_uri": "https://localhost:8080/",
     "height": 206
    },
    "id": "u6lSPV5LRdj2",
    "outputId": "2f42f043-5b3f-444f-c0f7-15c16fc95aa2"
   },
   "outputs": [
    {
     "data": {
      "text/html": [
       "<div>\n",
       "<style scoped>\n",
       "    .dataframe tbody tr th:only-of-type {\n",
       "        vertical-align: middle;\n",
       "    }\n",
       "\n",
       "    .dataframe tbody tr th {\n",
       "        vertical-align: top;\n",
       "    }\n",
       "\n",
       "    .dataframe thead th {\n",
       "        text-align: right;\n",
       "    }\n",
       "</style>\n",
       "<table border=\"1\" class=\"dataframe\">\n",
       "  <thead>\n",
       "    <tr style=\"text-align: right;\">\n",
       "      <th></th>\n",
       "      <th>season</th>\n",
       "      <th>yr</th>\n",
       "      <th>mnth</th>\n",
       "      <th>hr</th>\n",
       "      <th>holiday</th>\n",
       "      <th>weekday</th>\n",
       "      <th>notbizday</th>\n",
       "      <th>weathersit</th>\n",
       "      <th>temp</th>\n",
       "      <th>hum</th>\n",
       "      <th>windspeed</th>\n",
       "      <th>count</th>\n",
       "    </tr>\n",
       "  </thead>\n",
       "  <tbody>\n",
       "    <tr>\n",
       "      <th>0</th>\n",
       "      <td>0.0</td>\n",
       "      <td>0.0</td>\n",
       "      <td>0.0</td>\n",
       "      <td>0.0</td>\n",
       "      <td>0.0</td>\n",
       "      <td>6.0</td>\n",
       "      <td>1.0</td>\n",
       "      <td>0.0</td>\n",
       "      <td>-1.334609</td>\n",
       "      <td>0.947345</td>\n",
       "      <td>-1.553844</td>\n",
       "      <td>16</td>\n",
       "    </tr>\n",
       "    <tr>\n",
       "      <th>1</th>\n",
       "      <td>0.0</td>\n",
       "      <td>0.0</td>\n",
       "      <td>0.0</td>\n",
       "      <td>1.0</td>\n",
       "      <td>0.0</td>\n",
       "      <td>6.0</td>\n",
       "      <td>1.0</td>\n",
       "      <td>0.0</td>\n",
       "      <td>-1.438475</td>\n",
       "      <td>0.895513</td>\n",
       "      <td>-1.553844</td>\n",
       "      <td>40</td>\n",
       "    </tr>\n",
       "    <tr>\n",
       "      <th>2</th>\n",
       "      <td>0.0</td>\n",
       "      <td>0.0</td>\n",
       "      <td>0.0</td>\n",
       "      <td>2.0</td>\n",
       "      <td>0.0</td>\n",
       "      <td>6.0</td>\n",
       "      <td>1.0</td>\n",
       "      <td>0.0</td>\n",
       "      <td>-1.438475</td>\n",
       "      <td>0.895513</td>\n",
       "      <td>-1.553844</td>\n",
       "      <td>32</td>\n",
       "    </tr>\n",
       "    <tr>\n",
       "      <th>3</th>\n",
       "      <td>0.0</td>\n",
       "      <td>0.0</td>\n",
       "      <td>0.0</td>\n",
       "      <td>3.0</td>\n",
       "      <td>0.0</td>\n",
       "      <td>6.0</td>\n",
       "      <td>1.0</td>\n",
       "      <td>0.0</td>\n",
       "      <td>-1.334609</td>\n",
       "      <td>0.636351</td>\n",
       "      <td>-1.553844</td>\n",
       "      <td>13</td>\n",
       "    </tr>\n",
       "    <tr>\n",
       "      <th>4</th>\n",
       "      <td>0.0</td>\n",
       "      <td>0.0</td>\n",
       "      <td>0.0</td>\n",
       "      <td>4.0</td>\n",
       "      <td>0.0</td>\n",
       "      <td>6.0</td>\n",
       "      <td>1.0</td>\n",
       "      <td>0.0</td>\n",
       "      <td>-1.334609</td>\n",
       "      <td>0.636351</td>\n",
       "      <td>-1.553844</td>\n",
       "      <td>1</td>\n",
       "    </tr>\n",
       "  </tbody>\n",
       "</table>\n",
       "</div>"
      ],
      "text/plain": [
       "   season   yr  mnth   hr  holiday  weekday  notbizday  weathersit      temp  \\\n",
       "0     0.0  0.0   0.0  0.0      0.0      6.0        1.0         0.0 -1.334609   \n",
       "1     0.0  0.0   0.0  1.0      0.0      6.0        1.0         0.0 -1.438475   \n",
       "2     0.0  0.0   0.0  2.0      0.0      6.0        1.0         0.0 -1.438475   \n",
       "3     0.0  0.0   0.0  3.0      0.0      6.0        1.0         0.0 -1.334609   \n",
       "4     0.0  0.0   0.0  4.0      0.0      6.0        1.0         0.0 -1.334609   \n",
       "\n",
       "        hum  windspeed  count  \n",
       "0  0.947345  -1.553844     16  \n",
       "1  0.895513  -1.553844     40  \n",
       "2  0.895513  -1.553844     32  \n",
       "3  0.636351  -1.553844     13  \n",
       "4  0.636351  -1.553844      1  "
      ]
     },
     "execution_count": 7,
     "metadata": {},
     "output_type": "execute_result"
    }
   ],
   "source": [
    "#Ordinal Encoding the Categorical Features\n",
    "df = df.drop(['dteday','cnt'], axis=1)\n",
    "ordinal_categoricals = ['season','yr', 'mnth','hr','holiday','weekday','notbizday','weathersit' ]\n",
    "enc = OrdinalEncoder()\n",
    "df[ordinal_categoricals]= enc.fit_transform(df[ordinal_categoricals])\n",
    "df.head()"
   ]
  },
  {
   "cell_type": "code",
   "execution_count": 8,
   "metadata": {
    "colab": {
     "base_uri": "https://localhost:8080/"
    },
    "id": "QHDUPbjXUm49",
    "outputId": "213a0f32-0f2e-4afc-bf31-8d0e5a3fed4e"
   },
   "outputs": [
    {
     "data": {
      "text/plain": [
       "[array([1, 2, 3, 4]),\n",
       " array([0, 1]),\n",
       " array([ 1,  2,  3,  4,  5,  6,  7,  8,  9, 10, 11, 12]),\n",
       " array([ 0,  1,  2,  3,  4,  5,  6,  7,  8,  9, 10, 11, 12, 13, 14, 15, 16,\n",
       "        17, 18, 19, 20, 21, 22, 23]),\n",
       " array([0, 1]),\n",
       " array([0, 1, 2, 3, 4, 5, 6]),\n",
       " array([0, 1]),\n",
       " array([1, 2, 3, 4])]"
      ]
     },
     "execution_count": 8,
     "metadata": {},
     "output_type": "execute_result"
    }
   ],
   "source": [
    "enc.categories_"
   ]
  },
  {
   "cell_type": "markdown",
   "metadata": {
    "id": "AOl-xGIRVPsR"
   },
   "source": [
    "It looks like the categorical variables were already encoded, so we didn't need to encode them."
   ]
  },
  {
   "cell_type": "markdown",
   "metadata": {
    "id": "wD3RbKUgbnA6"
   },
   "source": [
    "#Q1: Regression"
   ]
  },
  {
   "cell_type": "markdown",
   "metadata": {
    "id": "0ta2XOgsbpYA"
   },
   "source": [
    "##1"
   ]
  },
  {
   "cell_type": "code",
   "execution_count": 9,
   "metadata": {
    "id": "KGa6uYx2VclB"
   },
   "outputs": [],
   "source": [
    "#Defining the target and features, and splitting the data.\n",
    "y = df['count']\n",
    "X = df.drop('count', axis=1) # becareful inplace= False\n",
    "X_train, X_test, y_train, y_test = train_test_split(X, y, test_size=0.3, random_state=rand_state)"
   ]
  },
  {
   "cell_type": "markdown",
   "metadata": {
    "id": "8JZMLKQFbwyx"
   },
   "source": [
    "##2.1"
   ]
  },
  {
   "cell_type": "code",
   "execution_count": 10,
   "metadata": {
    "colab": {
     "base_uri": "https://localhost:8080/"
    },
    "id": "ZaeBkI_OV3Qj",
    "outputId": "552a8bbb-c54b-4683-d121-7408988e591d"
   },
   "outputs": [
    {
     "data": {
      "text/plain": [
       "RandomForestRegressor(random_state=1000)"
      ]
     },
     "execution_count": 10,
     "metadata": {},
     "output_type": "execute_result"
    }
   ],
   "source": [
    "#Training the model.\n",
    "RF_regression = RandomForestRegressor(random_state=rand_state)\n",
    "RF_regression.fit(X_train, y_train)"
   ]
  },
  {
   "cell_type": "markdown",
   "metadata": {
    "id": "ABaCgyUVbzxJ"
   },
   "source": [
    "###2.2 & 2.3"
   ]
  },
  {
   "cell_type": "code",
   "execution_count": 11,
   "metadata": {
    "colab": {
     "base_uri": "https://localhost:8080/",
     "height": 206
    },
    "id": "19pKXvnGWsLN",
    "outputId": "0870bbb3-a36b-4646-8ca5-70dd68168dc1"
   },
   "outputs": [
    {
     "data": {
      "text/html": [
       "<div>\n",
       "<style scoped>\n",
       "    .dataframe tbody tr th:only-of-type {\n",
       "        vertical-align: middle;\n",
       "    }\n",
       "\n",
       "    .dataframe tbody tr th {\n",
       "        vertical-align: top;\n",
       "    }\n",
       "\n",
       "    .dataframe thead th {\n",
       "        text-align: right;\n",
       "    }\n",
       "</style>\n",
       "<table border=\"1\" class=\"dataframe\">\n",
       "  <thead>\n",
       "    <tr style=\"text-align: right;\">\n",
       "      <th></th>\n",
       "      <th>y_test</th>\n",
       "      <th>y_hat</th>\n",
       "    </tr>\n",
       "  </thead>\n",
       "  <tbody>\n",
       "    <tr>\n",
       "      <th>4495</th>\n",
       "      <td>26</td>\n",
       "      <td>21.38</td>\n",
       "    </tr>\n",
       "    <tr>\n",
       "      <th>4418</th>\n",
       "      <td>47</td>\n",
       "      <td>64.21</td>\n",
       "    </tr>\n",
       "    <tr>\n",
       "      <th>7141</th>\n",
       "      <td>11</td>\n",
       "      <td>4.91</td>\n",
       "    </tr>\n",
       "    <tr>\n",
       "      <th>14765</th>\n",
       "      <td>205</td>\n",
       "      <td>199.84</td>\n",
       "    </tr>\n",
       "    <tr>\n",
       "      <th>16541</th>\n",
       "      <td>65</td>\n",
       "      <td>80.55</td>\n",
       "    </tr>\n",
       "  </tbody>\n",
       "</table>\n",
       "</div>"
      ],
      "text/plain": [
       "       y_test   y_hat\n",
       "4495       26   21.38\n",
       "4418       47   64.21\n",
       "7141       11    4.91\n",
       "14765     205  199.84\n",
       "16541      65   80.55"
      ]
     },
     "execution_count": 11,
     "metadata": {},
     "output_type": "execute_result"
    }
   ],
   "source": [
    "y_hat = RF_regression.predict(X_test)\n",
    "predictions = pd.DataFrame({ 'y_test':y_test,'y_hat':y_hat})\n",
    "predictions.head()"
   ]
  },
  {
   "cell_type": "markdown",
   "metadata": {
    "id": "XmKlla_0b6JA"
   },
   "source": [
    "###2.4 "
   ]
  },
  {
   "cell_type": "code",
   "execution_count": 12,
   "metadata": {
    "colab": {
     "base_uri": "https://localhost:8080/",
     "height": 306
    },
    "id": "uH-uhLLGc9eS",
    "outputId": "ad8fb86d-2070-4eae-bfec-3bbba394dc72"
   },
   "outputs": [
    {
     "data": {
      "image/png": "[encoded data removed]",
      "text/plain": [
       "<Figure size 432x288 with 1 Axes>"
      ]
     },
     "metadata": {},
     "output_type": "display_data"
    }
   ],
   "source": [
    "sns.scatterplot(x=y_test, y=y_hat, alpha=0.6)\n",
    "sns.lineplot(y_test, y_test)\n",
    "\n",
    "plt.xlabel('Actual count', fontsize=14)\n",
    "plt.ylabel('Prediced  count', fontsize=14)\n",
    "plt.title('Actual vs Predicted  count (test set)', fontsize=17)\n",
    "plt.show()"
   ]
  },
  {
   "cell_type": "markdown",
   "metadata": {
    "id": "BgVCqI0rb-IL"
   },
   "source": [
    "We are pleased with this visualization as our model (line) looks like it's capturing the data pattern well. "
   ]
  },
  {
   "cell_type": "markdown",
   "metadata": {
    "id": "EiF1mKw0cGC8"
   },
   "source": [
    "###2.5"
   ]
  },
  {
   "cell_type": "code",
   "execution_count": 13,
   "metadata": {
    "colab": {
     "base_uri": "https://localhost:8080/"
    },
    "id": "lTB35Wv6dK9D",
    "outputId": "f004ce54-c13c-4fb7-d682-4db9bf34d362"
   },
   "outputs": [
    {
     "data": {
      "text/plain": [
       "0.9488"
      ]
     },
     "execution_count": 13,
     "metadata": {},
     "output_type": "execute_result"
    }
   ],
   "source": [
    "#Reporting R squared\n",
    "np.round(RF_regression.score(X_test, y_test),4)"
   ]
  },
  {
   "cell_type": "code",
   "execution_count": 14,
   "metadata": {
    "colab": {
     "base_uri": "https://localhost:8080/"
    },
    "id": "2jOuomfydXjF",
    "outputId": "3a50aa77-0120-4770-b1a3-1603c3b73bd9"
   },
   "outputs": [
    {
     "data": {
      "text/plain": [
       "41.82"
      ]
     },
     "execution_count": 14,
     "metadata": {},
     "output_type": "execute_result"
    }
   ],
   "source": [
    "#Reporting MSE\n",
    "MSE_test = round(np.mean(np.square(y_test - y_hat)),2)\n",
    "RMSE_test = round(np.sqrt(MSE_test),2)\n",
    "RMSE_test"
   ]
  },
  {
   "cell_type": "markdown",
   "metadata": {
    "id": "nqluZw8UcLy7"
   },
   "source": [
    "##3 "
   ]
  },
  {
   "cell_type": "code",
   "execution_count": null,
   "metadata": {
    "id": "aQNibXN8dhmE"
   },
   "outputs": [],
   "source": [
    "my_param_grid = {'n_estimators':[100,200], 'max_features':['log2', 'auto'], 'max_depth':[10,None]} \n",
    "grid = GridSearchCV(estimator=RandomForestRegressor(random_state=rand_state),param_grid= my_param_grid, refit = True, verbose=2, cv=5 )"
   ]
  },
  {
   "cell_type": "code",
   "execution_count": null,
   "metadata": {
    "colab": {
     "base_uri": "https://localhost:8080/",
     "height": 692
    },
    "id": "xCCM5rgReQA5",
    "outputId": "89086464-e0ce-4189-822b-189117b0d4f4"
   },
   "outputs": [],
   "source": [
    "grid.fit(X_train,y_train)"
   ]
  },
  {
   "cell_type": "code",
   "execution_count": null,
   "metadata": {
    "id": "CxrGH9eifhDa"
   },
   "outputs": [],
   "source": [
    "grid.best_params_"
   ]
  },
  {
   "cell_type": "code",
   "execution_count": null,
   "metadata": {
    "id": "w7IuvFtUfzx9"
   },
   "outputs": [],
   "source": [
    "grid.best_estimator_"
   ]
  },
  {
   "cell_type": "code",
   "execution_count": null,
   "metadata": {
    "colab": {
     "base_uri": "https://localhost:8080/"
    },
    "id": "P6g_eUpPf_TZ",
    "outputId": "e8b4efed-1528-4d6e-c99b-cb1517b451db"
   },
   "outputs": [],
   "source": [
    "RF_regression_opt = RandomForestRegressor(random_state=rand_state, max_depth=None,max_features='auto',n_estimators=200)\n",
    "RF_regression_opt.fit(X_train, y_train)\n",
    "print(np.round(RF_regression_opt.score(X_test, y_test),4))\n",
    "print('-----')\n",
    "MSE_test = round(np.mean(np.square(y_test - y_hat)),2)\n",
    "RMSE_test = round(np.sqrt(MSE_test),2)\n",
    "print(RMSE_test)"
   ]
  },
  {
   "cell_type": "markdown",
   "metadata": {
    "id": "-qCDK8saAsbV"
   },
   "source": [
    "It looks like our grid selection for our grid search CV was not better than just the default values. The only selection that the grid search did was to set the number of trees to 200. That performed almost identically, but slightly worse, to the model we trained in the beginning. With the max depth parameter set to None, our model is potentially making some very bushy trees."
   ]
  },
  {
   "cell_type": "markdown",
   "metadata": {
    "id": "_tuFUzq8C6i_"
   },
   "source": [
    "##4"
   ]
  },
  {
   "cell_type": "code",
   "execution_count": null,
   "metadata": {
    "id": "vbncGP60gZcc"
   },
   "outputs": [],
   "source": [
    "R2 = cross_val_score(estimator = RandomForestRegressor(max_depth=None, max_features='auto', n_estimators=200), X = X_train, y = y_train, cv = 5 , scoring=\"r2\" )"
   ]
  },
  {
   "cell_type": "code",
   "execution_count": null,
   "metadata": {
    "colab": {
     "base_uri": "https://localhost:8080/"
    },
    "id": "t9NdKbpFAyzl",
    "outputId": "a92757a9-5fd8-4ce4-bf15-6fe373ebcedc"
   },
   "outputs": [],
   "source": [
    "R2_CV = round(np.mean(R2),4)\n",
    "R2_CV"
   ]
  },
  {
   "cell_type": "code",
   "execution_count": null,
   "metadata": {
    "colab": {
     "base_uri": "https://localhost:8080/"
    },
    "id": "KFEzB2JDAzCf",
    "outputId": "24679eb4-b966-4ad0-f8a4-b54332c7f2cc"
   },
   "outputs": [],
   "source": [
    "RF_oob = RandomForestRegressor(max_depth=None, max_features='auto', n_estimators=200, oob_score=True)\n",
    "RF_oob.fit(X_train, y_train)"
   ]
  },
  {
   "cell_type": "code",
   "execution_count": null,
   "metadata": {
    "colab": {
     "base_uri": "https://localhost:8080/"
    },
    "id": "2BCmCNFqAzhR",
    "outputId": "f2b69c27-814e-4bbb-e8b8-07ffef8c0808"
   },
   "outputs": [],
   "source": [
    "RF_oob.oob_score_"
   ]
  },
  {
   "cell_type": "markdown",
   "metadata": {
    "id": "hisCrgcLAzxl"
   },
   "source": [
    "It looks like our CV and OOB results are pretty close to the results we got from using the test set. Overall the model is doing pretty well at predicting the number of people riding bikes in NYC."
   ]
  },
  {
   "cell_type": "markdown",
   "metadata": {
    "id": "oExPxrO6C9-H"
   },
   "source": [
    "##5"
   ]
  },
  {
   "cell_type": "code",
   "execution_count": null,
   "metadata": {
    "colab": {
     "base_uri": "https://localhost:8080/",
     "height": 394
    },
    "id": "e039Z9vMA0W0",
    "outputId": "2c2a1b09-8c3e-458b-dc04-f84b761a1a83"
   },
   "outputs": [],
   "source": [
    "features = list(X_train.columns)\n",
    "importance = RF_regression_opt.feature_importances_\n",
    "FIM = pd.DataFrame({'Features': features, 'Feature_importance':importance})\n",
    "FIM = FIM.sort_values(by=['Feature_importance'])\n",
    "FIM"
   ]
  },
  {
   "cell_type": "code",
   "execution_count": null,
   "metadata": {
    "colab": {
     "base_uri": "https://localhost:8080/",
     "height": 410
    },
    "id": "1F0sE0MRA1cd",
    "outputId": "15422d37-5d9d-429a-e2ff-9ca084ec0083"
   },
   "outputs": [],
   "source": [
    "plt.figure(figsize=(10,6))\n",
    "plt.title('Feature Importance')\n",
    "sns.barplot(y='Features', x='Feature_importance', data=FIM)\n",
    "plt.show()"
   ]
  },
  {
   "cell_type": "code",
   "execution_count": null,
   "metadata": {
    "colab": {
     "base_uri": "https://localhost:8080/",
     "height": 660
    },
    "id": "VoZVQZV4A1yI",
    "outputId": "5dd07536-420d-408b-fe1c-e00da4770f63"
   },
   "outputs": [],
   "source": [
    "X_test_wc = sm.add_constant(X_test)\n",
    "X_train_wc = sm.add_constant(X_train)\n",
    "model = sm.OLS(y_train,X_train_wc)\n",
    "statsmodels_reg= model.fit()\n",
    "statsmodels_reg.summary()"
   ]
  },
  {
   "cell_type": "markdown",
   "metadata": {
    "id": "cnJsxHAxA2Xm"
   },
   "source": [
    "Our 5 most *important* features are: hr, temp, notbizday, yr, hum and yr. Our 5 most *significant* features are hr, temp, hum, yr, and season. \n",
    "\n",
    "It looks like notbizday is not very significant at all, but it's 4th on our list of feature importance. This probably means that notbizday has a non-linear relationship with the number of people riding bikes that is being picked up in random forest, but it is being misspecified in the linear model."
   ]
  },
  {
   "cell_type": "markdown",
   "metadata": {},
   "source": [
    "# Part 6: XGBoost"
   ]
  },
  {
   "cell_type": "code",
   "execution_count": 15,
   "metadata": {},
   "outputs": [
    {
     "name": "stdout",
     "output_type": "stream",
     "text": [
      "Collecting package metadata (current_repodata.json): done\n",
      "Solving environment: done\n",
      "\n",
      "## Package Plan ##\n",
      "\n",
      "  environment location: /Users/nathan/opt/anaconda3\n",
      "\n",
      "  added / updated specs:\n",
      "    - py-xgboost\n",
      "\n",
      "\n",
      "The following packages will be downloaded:\n",
      "\n",
      "    package                    |            build\n",
      "    ---------------------------|-----------------\n",
      "    _py-xgboost-mutex-2.0      |            cpu_0           8 KB  anaconda\n",
      "    ca-certificates-2022.3.29  |       hecd8cb5_1         125 KB  anaconda\n",
      "    certifi-2021.10.8          |   py39hecd8cb5_2         156 KB  anaconda\n",
      "    libxgboost-1.5.0           |       he9d5cce_1         2.2 MB  anaconda\n",
      "    openssl-1.1.1n             |       hca72f7f_0         3.5 MB  anaconda\n",
      "    py-xgboost-1.5.0           |   py39hecd8cb5_1         164 KB  anaconda\n",
      "    ------------------------------------------------------------\n",
      "                                           Total:         6.2 MB\n",
      "\n",
      "The following NEW packages will be INSTALLED:\n",
      "\n",
      "  _py-xgboost-mutex  anaconda/osx-64::_py-xgboost-mutex-2.0-cpu_0 None\n",
      "  libxgboost         anaconda/osx-64::libxgboost-1.5.0-he9d5cce_1 None\n",
      "  py-xgboost         anaconda/osx-64::py-xgboost-1.5.0-py39hecd8cb5_1 None\n",
      "\n",
      "The following packages will be SUPERSEDED by a higher-priority channel:\n",
      "\n",
      "  ca-certificates                                 pkgs/main --> anaconda None\n",
      "  certifi                                         pkgs/main --> anaconda None\n",
      "  openssl                                         pkgs/main --> anaconda None\n",
      "\n",
      "\n",
      "\n",
      "Downloading and Extracting Packages\n",
      "py-xgboost-1.5.0     | 164 KB    | ##################################### | 100% \n",
      "openssl-1.1.1n       | 3.5 MB    | ##################################### | 100% \n",
      "ca-certificates-2022 | 125 KB    | ##################################### | 100% \n",
      "certifi-2021.10.8    | 156 KB    | ##################################### | 100% \n",
      "libxgboost-1.5.0     | 2.2 MB    | ##################################### | 100% \n",
      "_py-xgboost-mutex-2. | 8 KB      | ##################################### | 100% \n",
      "Preparing transaction: done\n",
      "Verifying transaction: done\n",
      "Executing transaction: done\n",
      "Retrieving notices: ...working... done\n",
      "\n",
      "Note: you may need to restart the kernel to use updated packages.\n"
     ]
    }
   ],
   "source": [
    "conda install -c anaconda py-xgboost"
   ]
  },
  {
   "cell_type": "code",
   "execution_count": 22,
   "metadata": {},
   "outputs": [],
   "source": [
    "import xgboost \n",
    "from xgboost import XGBClassifier\n",
    "from xgboost import XGBRegressor"
   ]
  },
  {
   "cell_type": "code",
   "execution_count": 24,
   "metadata": {},
   "outputs": [],
   "source": [
    "from sklearn.ensemble import AdaBoostClassifier, GradientBoostingClassifier, AdaBoostRegressor, GradientBoostingRegressor"
   ]
  },
  {
   "cell_type": "code",
   "execution_count": 40,
   "metadata": {},
   "outputs": [],
   "source": [
    "#Vanilla RF\n",
    "RF_reg = RandomForestRegressor(random_state=rand_state,  n_estimators=100)"
   ]
  },
  {
   "cell_type": "code",
   "execution_count": 41,
   "metadata": {},
   "outputs": [
    {
     "name": "stdout",
     "output_type": "stream",
     "text": [
      "CPU times: user 2.87 s, sys: 123 ms, total: 2.99 s\n",
      "Wall time: 3.07 s\n"
     ]
    },
    {
     "data": {
      "text/plain": [
       "RandomForestRegressor(random_state=1000)"
      ]
     },
     "execution_count": 41,
     "metadata": {},
     "output_type": "execute_result"
    }
   ],
   "source": [
    "%%time\n",
    "RF_reg.fit(X_train, y_train)"
   ]
  },
  {
   "cell_type": "code",
   "execution_count": 37,
   "metadata": {},
   "outputs": [
    {
     "name": "stdout",
     "output_type": "stream",
     "text": [
      "CPU times: user 3 µs, sys: 1 µs, total: 4 µs\n",
      "Wall time: 21 µs\n"
     ]
    }
   ],
   "source": [
    "# AdaBoost\n",
    "AdB_reg = AdaBoostRegressor(random_state=rand_state)"
   ]
  },
  {
   "cell_type": "code",
   "execution_count": 43,
   "metadata": {},
   "outputs": [
    {
     "name": "stdout",
     "output_type": "stream",
     "text": [
      "CPU times: user 521 ms, sys: 19 ms, total: 540 ms\n",
      "Wall time: 553 ms\n"
     ]
    },
    {
     "data": {
      "text/plain": [
       "AdaBoostRegressor(random_state=1000)"
      ]
     },
     "execution_count": 43,
     "metadata": {},
     "output_type": "execute_result"
    }
   ],
   "source": [
    "%%time\n",
    "AdB_reg.fit(X_train, y_train)"
   ]
  },
  {
   "cell_type": "code",
   "execution_count": 32,
   "metadata": {},
   "outputs": [],
   "source": [
    "# Gradient Boosting (GBM)\n",
    "GBM_reg = GradientBoostingRegressor(random_state=rand_state)"
   ]
  },
  {
   "cell_type": "code",
   "execution_count": 33,
   "metadata": {},
   "outputs": [
    {
     "name": "stdout",
     "output_type": "stream",
     "text": [
      "CPU times: user 793 ms, sys: 24.1 ms, total: 817 ms\n",
      "Wall time: 840 ms\n"
     ]
    },
    {
     "data": {
      "text/plain": [
       "GradientBoostingRegressor(random_state=1000)"
      ]
     },
     "execution_count": 33,
     "metadata": {},
     "output_type": "execute_result"
    }
   ],
   "source": [
    "%%time\n",
    "GBM_reg.fit(X_train, y_train)"
   ]
  },
  {
   "cell_type": "code",
   "execution_count": 34,
   "metadata": {},
   "outputs": [],
   "source": [
    "# XGBoost\n",
    "XGB_reg = XGBRegressor(random_state=rand_state,  n_estimators=100)"
   ]
  },
  {
   "cell_type": "code",
   "execution_count": 35,
   "metadata": {},
   "outputs": [
    {
     "name": "stdout",
     "output_type": "stream",
     "text": [
      "CPU times: user 3.34 s, sys: 184 ms, total: 3.53 s\n",
      "Wall time: 583 ms\n"
     ]
    },
    {
     "data": {
      "text/plain": [
       "XGBRegressor(base_score=0.5, booster='gbtree', colsample_bylevel=1,\n",
       "             colsample_bynode=1, colsample_bytree=1, enable_categorical=False,\n",
       "             gamma=0, gpu_id=-1, importance_type=None,\n",
       "             interaction_constraints='', learning_rate=0.300000012,\n",
       "             max_delta_step=0, max_depth=6, min_child_weight=1, missing=nan,\n",
       "             monotone_constraints='()', n_estimators=100, n_jobs=8,\n",
       "             num_parallel_tree=1, predictor='auto', random_state=1000,\n",
       "             reg_alpha=0, reg_lambda=1, scale_pos_weight=1, subsample=1,\n",
       "             tree_method='exact', validate_parameters=1, verbosity=None)"
      ]
     },
     "execution_count": 35,
     "metadata": {},
     "output_type": "execute_result"
    }
   ],
   "source": [
    "%%time\n",
    "XGB_reg.fit(X_train, y_train)"
   ]
  },
  {
   "cell_type": "code",
   "execution_count": 45,
   "metadata": {},
   "outputs": [],
   "source": [
    "# Predicting the Test set probabilities and classes\n",
    "y_hat_RF       = RF_reg.predict(X_test)\n",
    "y_hat_AdB      = AdB_reg.predict(X_test)\n",
    "y_hat_GBM      = GBM_reg.predict(X_test)\n",
    "y_hat_XGB      = XGB_reg.predict(X_test)"
   ]
  },
  {
   "cell_type": "code",
   "execution_count": 48,
   "metadata": {},
   "outputs": [],
   "source": [
    "from sklearn.metrics import accuracy_score, recall_score, precision_score, f1_score, r2_score\n",
    "from sklearn.metrics import confusion_matrix, classification_report, roc_curve, roc_auc_score"
   ]
  },
  {
   "cell_type": "code",
   "execution_count": 49,
   "metadata": {},
   "outputs": [
    {
     "name": "stdout",
     "output_type": "stream",
     "text": [
      "RF  Accuracy = 0.9487843353334885\n",
      "AdB Accuracy = 0.6656093777776118\n",
      "GBM Accuracy = 0.8563406501875857\n",
      "XGB Accuracy = 0.9516166912706526\n"
     ]
    }
   ],
   "source": [
    "print('RF  Accuracy = {}'.format(r2_score(y_test, y_hat_RF)))\n",
    "print('AdB Accuracy = {}'.format(r2_score(y_test, y_hat_AdB)))\n",
    "print('GBM Accuracy = {}'.format(r2_score(y_test, y_hat_GBM)))\n",
    "print('XGB Accuracy = {}'.format(r2_score(y_test, y_hat_XGB)))"
   ]
  },
  {
   "cell_type": "markdown",
   "metadata": {},
   "source": [
    "Execution Speed Rank (1 = fastest):\n",
    "1. AdaBoost: 553 ms\n",
    "2. XGBoost: 583 ms\n",
    "3. Gradient Boost: 840 ms\n",
    "4. Random Forest: 3.07s \n",
    "\n",
    "Performance Rank:\n",
    "1. XGBoost: 95.2%\n",
    "2. Random Forest: 94.9%\n",
    "3. Gradient Boosting: 85.6%\n",
    "4. AdaBoost: 66.6%"
   ]
  },
  {
   "cell_type": "code",
   "execution_count": 74,
   "metadata": {},
   "outputs": [
    {
     "name": "stdout",
     "output_type": "stream",
     "text": [
      "overall winner: XGBoost\n"
     ]
    }
   ],
   "source": [
    "print(\"overall winner: XGBoost\")"
   ]
  },
  {
   "cell_type": "markdown",
   "metadata": {
    "id": "nnZqSo7dD7Qi"
   },
   "source": [
    "#Q2: Classification\n"
   ]
  },
  {
   "cell_type": "markdown",
   "metadata": {
    "id": "JqX90qZYEKMN"
   },
   "source": [
    "##1"
   ]
  },
  {
   "cell_type": "code",
   "execution_count": 50,
   "metadata": {
    "id": "lTfWcRx7D-S4"
   },
   "outputs": [],
   "source": [
    "df['overload'] = np.where(df['count']>500,1,0)"
   ]
  },
  {
   "cell_type": "code",
   "execution_count": 51,
   "metadata": {
    "id": "PwfZZcmYERWI"
   },
   "outputs": [],
   "source": [
    "df.drop('count', axis=1, inplace = True)"
   ]
  },
  {
   "cell_type": "code",
   "execution_count": 52,
   "metadata": {
    "colab": {
     "base_uri": "https://localhost:8080/",
     "height": 143
    },
    "id": "UKIYYKsCET50",
    "outputId": "ac22cce4-5a41-4982-ed05-2f218ccafc4e"
   },
   "outputs": [
    {
     "data": {
      "text/html": [
       "<div>\n",
       "<style scoped>\n",
       "    .dataframe tbody tr th:only-of-type {\n",
       "        vertical-align: middle;\n",
       "    }\n",
       "\n",
       "    .dataframe tbody tr th {\n",
       "        vertical-align: top;\n",
       "    }\n",
       "\n",
       "    .dataframe thead th {\n",
       "        text-align: right;\n",
       "    }\n",
       "</style>\n",
       "<table border=\"1\" class=\"dataframe\">\n",
       "  <thead>\n",
       "    <tr style=\"text-align: right;\">\n",
       "      <th>overload</th>\n",
       "      <th>0</th>\n",
       "      <th>1</th>\n",
       "    </tr>\n",
       "    <tr>\n",
       "      <th>overload</th>\n",
       "      <th></th>\n",
       "      <th></th>\n",
       "    </tr>\n",
       "  </thead>\n",
       "  <tbody>\n",
       "    <tr>\n",
       "      <th>0</th>\n",
       "      <td>92.640543</td>\n",
       "      <td>0.000000</td>\n",
       "    </tr>\n",
       "    <tr>\n",
       "      <th>1</th>\n",
       "      <td>0.000000</td>\n",
       "      <td>7.359457</td>\n",
       "    </tr>\n",
       "  </tbody>\n",
       "</table>\n",
       "</div>"
      ],
      "text/plain": [
       "overload          0         1\n",
       "overload                     \n",
       "0         92.640543  0.000000\n",
       "1          0.000000  7.359457"
      ]
     },
     "execution_count": 52,
     "metadata": {},
     "output_type": "execute_result"
    }
   ],
   "source": [
    "pd.crosstab(df['overload'],df['overload'], normalize='all')*100"
   ]
  },
  {
   "cell_type": "markdown",
   "metadata": {
    "id": "2Li2sH4LEVhk"
   },
   "source": [
    "Our data is highly imbalanced, with 7% of observations falling under the target variable"
   ]
  },
  {
   "cell_type": "markdown",
   "metadata": {
    "id": "gP-6G5CBEctR"
   },
   "source": [
    "##2."
   ]
  },
  {
   "cell_type": "code",
   "execution_count": 53,
   "metadata": {
    "id": "LbVHN3rHEbfY"
   },
   "outputs": [],
   "source": [
    "y = df['overload']\n",
    "X = df.drop('overload', axis=1) # becareful inplace= False\n",
    "\n",
    "from sklearn.model_selection import train_test_split\n",
    "X_train, X_test, y_train, y_test = train_test_split(X, y, test_size=0.3, random_state=rand_state)"
   ]
  },
  {
   "cell_type": "markdown",
   "metadata": {
    "id": "a1geTOFIEo1i"
   },
   "source": [
    "##3.1"
   ]
  },
  {
   "cell_type": "code",
   "execution_count": 54,
   "metadata": {
    "colab": {
     "base_uri": "https://localhost:8080/"
    },
    "id": "cRky6f4xEn73",
    "outputId": "33cd5db0-0a8b-4f45-a33f-8fc752948422"
   },
   "outputs": [
    {
     "data": {
      "text/plain": [
       "RandomForestClassifier(random_state=1000)"
      ]
     },
     "execution_count": 54,
     "metadata": {},
     "output_type": "execute_result"
    }
   ],
   "source": [
    "RF_classifier = RandomForestClassifier(random_state=rand_state)\n",
    "RF_classifier.fit(X_train, y_train)"
   ]
  },
  {
   "cell_type": "markdown",
   "metadata": {
    "id": "2P6gthxkExdR"
   },
   "source": [
    "###3.2"
   ]
  },
  {
   "cell_type": "code",
   "execution_count": 55,
   "metadata": {
    "id": "TKftbm51Ey_s"
   },
   "outputs": [],
   "source": [
    "#  Test set classes \n",
    "y_hat      = RF_classifier.predict(X_test)\n",
    "# test set probabilities\n",
    "y_hat_probs = RF_classifier.predict_proba(X_test)[:,1] \n"
   ]
  },
  {
   "cell_type": "markdown",
   "metadata": {
    "id": "7835GV6KEyzG"
   },
   "source": [
    "###3.3 INTERPRET"
   ]
  },
  {
   "cell_type": "code",
   "execution_count": 56,
   "metadata": {
    "colab": {
     "base_uri": "https://localhost:8080/",
     "height": 268
    },
    "id": "fGYVgPbFE73F",
    "outputId": "8c4e3d94-fc29-4210-b278-054b72a4f384"
   },
   "outputs": [
    {
     "data": {
      "image/png": "[encoded data removed]",
      "text/plain": [
       "<Figure size 432x288 with 1 Axes>"
      ]
     },
     "metadata": {},
     "output_type": "display_data"
    }
   ],
   "source": [
    "plt.hist(y_hat_probs)\n",
    "plt.show()"
   ]
  },
  {
   "cell_type": "markdown",
   "metadata": {
    "id": "HXR34h-lE_wW"
   },
   "source": [
    "our model always predicts positive above a 0.1 threshold"
   ]
  },
  {
   "cell_type": "markdown",
   "metadata": {
    "id": "b-GX_k0sFZg4"
   },
   "source": [
    "###3.4"
   ]
  },
  {
   "cell_type": "code",
   "execution_count": 57,
   "metadata": {
    "id": "grTlqIrdE-Yd"
   },
   "outputs": [
    {
     "name": "stdout",
     "output_type": "stream",
     "text": [
      "[[4784   35]\n",
      " [ 113  282]]\n"
     ]
    }
   ],
   "source": [
    "print(confusion_matrix(y_test, y_hat))"
   ]
  },
  {
   "cell_type": "code",
   "execution_count": 58,
   "metadata": {
    "colab": {
     "base_uri": "https://localhost:8080/"
    },
    "id": "IueCDK5pFZY0",
    "outputId": "e2c62538-87f6-42a8-cbdc-ab458156ea58"
   },
   "outputs": [
    {
     "name": "stdout",
     "output_type": "stream",
     "text": [
      "              precision    recall  f1-score   support\n",
      "\n",
      "           0       0.98      0.99      0.98      4819\n",
      "           1       0.89      0.71      0.79       395\n",
      "\n",
      "    accuracy                           0.97      5214\n",
      "   macro avg       0.93      0.85      0.89      5214\n",
      "weighted avg       0.97      0.97      0.97      5214\n",
      "\n"
     ]
    }
   ],
   "source": [
    "print(classification_report(y_test, y_hat))"
   ]
  },
  {
   "cell_type": "markdown",
   "metadata": {
    "id": "NUCH68EoFhpo"
   },
   "source": [
    "Our model is accruately classifying our target variable as pos/neg 97 oof the time.Because our data is imbalanced, accuracy is not as reliable.  \n",
    "\n",
    "The precision of the model is 0.89, indicating that we are doing ok limiting false positives.Our recall is slightly lower at 0.71, so we're letting the mdel identify false negatives more often. This exposes us to the risk of under-upplying bikes, because we will predict no overload when there actually is one. \n",
    ". "
   ]
  },
  {
   "cell_type": "markdown",
   "metadata": {
    "id": "uyu9F8OXGS9Y"
   },
   "source": [
    "##4"
   ]
  },
  {
   "cell_type": "code",
   "execution_count": null,
   "metadata": {
    "id": "Nx0w5fvDGQhR"
   },
   "outputs": [],
   "source": [
    "my_param_grid = {'n_estimators':[100,200], 'criterion':['gini','entropy'],  'max_features':['log2', 'auto'], 'max_depth':[10,None]}"
   ]
  },
  {
   "cell_type": "code",
   "execution_count": null,
   "metadata": {
    "id": "vOA_59alGVat"
   },
   "outputs": [],
   "source": [
    "grid = GridSearchCV(estimator=RandomForestClassifier(random_state=rand_state),param_grid= my_param_grid, refit = True, verbose=2, cv=5 )\n"
   ]
  },
  {
   "cell_type": "code",
   "execution_count": null,
   "metadata": {
    "colab": {
     "base_uri": "https://localhost:8080/"
    },
    "id": "_ImX8jeyGXcs",
    "outputId": "45056c5f-9fda-40c2-9bea-9b21476fd8f8"
   },
   "outputs": [],
   "source": [
    "grid.fit(X_train,y_train)"
   ]
  },
  {
   "cell_type": "code",
   "execution_count": null,
   "metadata": {
    "colab": {
     "base_uri": "https://localhost:8080/"
    },
    "id": "dUHjpLdDGc_s",
    "outputId": "c3e03f8d-b97c-4333-92c9-aa80cec5d793"
   },
   "outputs": [],
   "source": [
    "grid.best_params_"
   ]
  },
  {
   "cell_type": "code",
   "execution_count": null,
   "metadata": {
    "colab": {
     "base_uri": "https://localhost:8080/"
    },
    "id": "cxNjAFO5GfT9",
    "outputId": "7a3b5383-a82b-4a72-f614-85f3058529e2"
   },
   "outputs": [],
   "source": [
    "grid.best_estimator_"
   ]
  },
  {
   "cell_type": "code",
   "execution_count": null,
   "metadata": {
    "id": "4IUjvqI0GgoN"
   },
   "outputs": [],
   "source": [
    "y_hat_optimized = grid.predict(X_test)\n"
   ]
  },
  {
   "cell_type": "code",
   "execution_count": null,
   "metadata": {
    "colab": {
     "base_uri": "https://localhost:8080/"
    },
    "id": "5u5ZZQ8uGhr6",
    "outputId": "ccfc09ed-953f-42b3-9585-97ecc51f5c8b"
   },
   "outputs": [],
   "source": [
    "print(confusion_matrix(y_test, y_hat_optimized))"
   ]
  },
  {
   "cell_type": "code",
   "execution_count": null,
   "metadata": {
    "colab": {
     "base_uri": "https://localhost:8080/"
    },
    "id": "dM9S-z68Giw5",
    "outputId": "6d879d23-5e68-45ec-a6a8-433d0c2b64fe"
   },
   "outputs": [],
   "source": [
    "print(classification_report(y_test, y_hat_optimized))"
   ]
  },
  {
   "cell_type": "markdown",
   "metadata": {
    "id": "qh0hZCDSGkn3"
   },
   "source": [
    "Our model's accuracy and precision stayed close to the same after hyperparameter tuning. We were able to increase recall/ limit false negatives, though. "
   ]
  },
  {
   "cell_type": "markdown",
   "metadata": {
    "id": "0F-NL2WmG3FJ"
   },
   "source": [
    "##5."
   ]
  },
  {
   "cell_type": "code",
   "execution_count": null,
   "metadata": {
    "id": "NcAhck6oGsfi"
   },
   "outputs": [],
   "source": [
    "R2 = cross_val_score(estimator = RandomForestClassifier(max_depth=20, max_features='sqrt', n_estimators=500), X = X_train, y = y_train, cv = 5 , scoring=\"r2\" )"
   ]
  },
  {
   "cell_type": "code",
   "execution_count": null,
   "metadata": {
    "colab": {
     "base_uri": "https://localhost:8080/"
    },
    "id": "l5NSilerGsdO",
    "outputId": "9ffdca71-a619-4ac3-f3ed-92babd8dea1e"
   },
   "outputs": [],
   "source": [
    "#5-fold cross-validated R^2\n",
    "R2_CV = round(np.mean(R2),4)\n",
    "R2_CV\n"
   ]
  },
  {
   "cell_type": "code",
   "execution_count": null,
   "metadata": {
    "colab": {
     "base_uri": "https://localhost:8080/"
    },
    "id": "pKYhB5DbGjch",
    "outputId": "36936164-cb77-4e48-bbd5-f9e5bc6b1719"
   },
   "outputs": [],
   "source": [
    "#Out-of-bag accuracy\n",
    "RF_oob = RandomForestClassifier(max_depth=20, max_features='sqrt', n_estimators=500, oob_score=True)\n",
    "RF_oob.fit(X_train, y_train)"
   ]
  },
  {
   "cell_type": "code",
   "execution_count": null,
   "metadata": {
    "colab": {
     "base_uri": "https://localhost:8080/"
    },
    "id": "D06qfzEMHISh",
    "outputId": "7ab436cb-d8b9-420a-de02-b05cb309ba6d"
   },
   "outputs": [],
   "source": [
    "RF_oob.oob_score_"
   ]
  },
  {
   "cell_type": "markdown",
   "metadata": {
    "id": "miBcP25FHOSw"
   },
   "source": [
    "Our out-of-bag accuracy is quite high at over 97%. Cross-validated accuracy is lower than what we had previously estimated at 60.11%."
   ]
  },
  {
   "cell_type": "markdown",
   "metadata": {
    "id": "1-O064B6HI3C"
   },
   "source": [
    "##6.Imbalanced Data"
   ]
  },
  {
   "cell_type": "code",
   "execution_count": null,
   "metadata": {
    "id": "GZOdDXqxHrHu"
   },
   "outputs": [],
   "source": [
    "RF_balanced = RandomForestClassifier(random_state=1000, criterion='entropy', max_features='log2', max_depth=10, class_weight='balanced_subsample')"
   ]
  },
  {
   "cell_type": "code",
   "execution_count": null,
   "metadata": {
    "id": "P-iO51yBHs5z"
   },
   "outputs": [],
   "source": [
    "y_hat_balanced = RF_balanced.fit(X_train, y_train).predict(X_test)"
   ]
  },
  {
   "cell_type": "code",
   "execution_count": null,
   "metadata": {
    "colab": {
     "base_uri": "https://localhost:8080/"
    },
    "id": "m0BNhgVGHuX5",
    "outputId": "e43f7ef1-a2ac-4557-8947-10a79f60a1ba"
   },
   "outputs": [],
   "source": [
    "print(classification_report(y_test, y_hat_balanced))"
   ]
  },
  {
   "cell_type": "markdown",
   "metadata": {
    "id": "Z1flzshxHw-5"
   },
   "source": [
    "Using a balanced random forest classifier, our accuracy decreased slightly but we were able to increase recall and further limit false negatives. This makes sense because our unbalanced data could have hgher acuracy just by predicting negatives because it is so much more of the data, so now we need to give them more attention "
   ]
  },
  {
   "cell_type": "markdown",
   "metadata": {
    "id": "5RTtbNcXIMKK"
   },
   "source": [
    "##7."
   ]
  },
  {
   "cell_type": "code",
   "execution_count": null,
   "metadata": {
    "colab": {
     "base_uri": "https://localhost:8080/",
     "height": 321
    },
    "id": "TwHoRFJJHvww",
    "outputId": "f9cc17d1-2e25-4d1f-c127-9437287b24e8"
   },
   "outputs": [],
   "source": [
    "# generate a no skill (ns) prediction and logistic regression (lr) predictions.\n",
    "ns_probs = [0 for i in range(len(y_test))]\n",
    "lr_probs = RF_balanced.predict_proba(X_test)[:,1]\n",
    "# calculating scores for no skill and logistic regression\n",
    "ns_auc = roc_auc_score(y_test, ns_probs)\n",
    "lr_auc = roc_auc_score(y_test, lr_probs)\n",
    "print('No Skill     : ROC AUC=%.3f' % (ns_auc))\n",
    "print('Random Forest: ROC AUC=%.3f' % (lr_auc))\n",
    "\n",
    "# calculate roc curves\n",
    "ns_fpr, ns_tpr, _ = roc_curve(y_test, ns_probs)\n",
    "lr_fpr, lr_tpr, _ = roc_curve(y_test, lr_probs)\n",
    "# plot the roc curve for the model\n",
    "plt.plot(ns_fpr, ns_tpr, linestyle='--', label='No Skill')\n",
    "plt.plot(lr_fpr, lr_tpr, marker='.', label='Random Forest (balanced)')\n",
    "# axis labels\n",
    "plt.xlabel('False Positive Rate')\n",
    "plt.ylabel('True Positive Rate')\n",
    "# show the legend\n",
    "plt.legend()\n",
    "# show the plot\n",
    "plt.show()"
   ]
  },
  {
   "cell_type": "markdown",
   "metadata": {
    "id": "eA_o2JxaIQqe"
   },
   "source": [
    "Our AUC is 97.9%, and we can trust it because we are using a balanced version of the RF model. "
   ]
  },
  {
   "cell_type": "markdown",
   "metadata": {
    "id": "7KT5lB88IXof"
   },
   "source": [
    "##8"
   ]
  },
  {
   "cell_type": "code",
   "execution_count": null,
   "metadata": {
    "colab": {
     "base_uri": "https://localhost:8080/"
    },
    "id": "rxtgp1biIQVD",
    "outputId": "d816077b-ed75-42a1-9491-6315dbccbf92"
   },
   "outputs": [],
   "source": [
    "features = list(X_train.columns)\n",
    "features"
   ]
  },
  {
   "cell_type": "code",
   "execution_count": null,
   "metadata": {
    "colab": {
     "base_uri": "https://localhost:8080/"
    },
    "id": "V3cu7DQYIb9w",
    "outputId": "ede34aaf-96e1-432f-e669-9fe639ba3779"
   },
   "outputs": [],
   "source": [
    "importance = RF_balanced.feature_importances_\n",
    "importance"
   ]
  },
  {
   "cell_type": "code",
   "execution_count": null,
   "metadata": {
    "colab": {
     "base_uri": "https://localhost:8080/",
     "height": 394
    },
    "id": "2KByQOgbIc_z",
    "outputId": "311adb21-9b64-48ae-e34c-c5ab73c8a748"
   },
   "outputs": [],
   "source": [
    "fi = pd.DataFrame({'Features': features , 'Feature_importance':importance})\n",
    "fi = fi.sort_values(by=['Feature_importance'])\n",
    "fi"
   ]
  },
  {
   "cell_type": "markdown",
   "metadata": {
    "id": "wM42ootGIkVh"
   },
   "source": [
    "Our most important features are holiday, weathersit (), windspeed (), weekday (), and season. This follows, because traffic and tourism is probably a lot higher in the city during holidays. Weather also makes a lot of sense to predict whether people are outside riding bikes, and weathersit r windspeed categorize weather more specifically and accurately than temperature or humidity. This also follows to why season is important, with similar weather patterns throughouot a season. "
   ]
  },
  {
   "cell_type": "markdown",
   "metadata": {},
   "source": [
    "# Part 6: Boosting\n"
   ]
  },
  {
   "cell_type": "code",
   "execution_count": 59,
   "metadata": {},
   "outputs": [],
   "source": [
    "# Vanilla Random Forest\n",
    "RF_classifier = RandomForestClassifier(random_state=rand_state,  n_estimators=100)"
   ]
  },
  {
   "cell_type": "code",
   "execution_count": 60,
   "metadata": {},
   "outputs": [
    {
     "name": "stdout",
     "output_type": "stream",
     "text": [
      "CPU times: user 649 ms, sys: 28.8 ms, total: 678 ms\n",
      "Wall time: 694 ms\n"
     ]
    },
    {
     "data": {
      "text/plain": [
       "RandomForestClassifier(random_state=1000)"
      ]
     },
     "execution_count": 60,
     "metadata": {},
     "output_type": "execute_result"
    }
   ],
   "source": [
    "%%time\n",
    "RF_classifier.fit(X_train, y_train)"
   ]
  },
  {
   "cell_type": "code",
   "execution_count": 61,
   "metadata": {},
   "outputs": [],
   "source": [
    "#AdaBoost\n",
    "AdB_classifier = AdaBoostClassifier(random_state=rand_state,  n_estimators=100)"
   ]
  },
  {
   "cell_type": "code",
   "execution_count": 62,
   "metadata": {},
   "outputs": [
    {
     "name": "stdout",
     "output_type": "stream",
     "text": [
      "CPU times: user 596 ms, sys: 22.3 ms, total: 618 ms\n",
      "Wall time: 628 ms\n"
     ]
    },
    {
     "data": {
      "text/plain": [
       "AdaBoostClassifier(n_estimators=100, random_state=1000)"
      ]
     },
     "execution_count": 62,
     "metadata": {},
     "output_type": "execute_result"
    }
   ],
   "source": [
    "%%time\n",
    "AdB_classifier.fit(X_train, y_train)"
   ]
  },
  {
   "cell_type": "code",
   "execution_count": 64,
   "metadata": {},
   "outputs": [],
   "source": [
    "# GRadient Boosting \n",
    "GBM_classifier = GradientBoostingClassifier(random_state=rand_state,  n_estimators=100)"
   ]
  },
  {
   "cell_type": "code",
   "execution_count": 65,
   "metadata": {},
   "outputs": [
    {
     "name": "stdout",
     "output_type": "stream",
     "text": [
      "CPU times: user 870 ms, sys: 29.4 ms, total: 899 ms\n",
      "Wall time: 932 ms\n"
     ]
    },
    {
     "data": {
      "text/plain": [
       "GradientBoostingClassifier(random_state=1000)"
      ]
     },
     "execution_count": 65,
     "metadata": {},
     "output_type": "execute_result"
    }
   ],
   "source": [
    "%%time\n",
    "GBM_classifier.fit(X_train, y_train)"
   ]
  },
  {
   "cell_type": "code",
   "execution_count": 66,
   "metadata": {},
   "outputs": [],
   "source": [
    "#XGBoost\n",
    "XGB_classifier = XGBClassifier(random_state=rand_state,  n_estimators=100)"
   ]
  },
  {
   "cell_type": "code",
   "execution_count": 72,
   "metadata": {},
   "outputs": [
    {
     "name": "stdout",
     "output_type": "stream",
     "text": [
      "[22:26:07] WARNING: ../src/learner.cc:1115: Starting in XGBoost 1.3.0, the default evaluation metric used with the objective 'binary:logistic' was changed from 'error' to 'logloss'. Explicitly set eval_metric if you'd like to restore the old behavior.\n",
      "CPU times: user 3.16 s, sys: 213 ms, total: 3.37 s\n",
      "Wall time: 587 ms\n"
     ]
    },
    {
     "data": {
      "text/plain": [
       "XGBClassifier(base_score=0.5, booster='gbtree', colsample_bylevel=1,\n",
       "              colsample_bynode=1, colsample_bytree=1, enable_categorical=False,\n",
       "              gamma=0, gpu_id=-1, importance_type=None,\n",
       "              interaction_constraints='', learning_rate=0.300000012,\n",
       "              max_delta_step=0, max_depth=6, min_child_weight=1, missing=nan,\n",
       "              monotone_constraints='()', n_estimators=100, n_jobs=8,\n",
       "              num_parallel_tree=1, predictor='auto', random_state=1000,\n",
       "              reg_alpha=0, reg_lambda=1, scale_pos_weight=1, subsample=1,\n",
       "              tree_method='exact', validate_parameters=1, verbosity=None)"
      ]
     },
     "execution_count": 72,
     "metadata": {},
     "output_type": "execute_result"
    }
   ],
   "source": [
    "%%time\n",
    "XGB_classifier.fit(X_train, y_train)"
   ]
  },
  {
   "cell_type": "code",
   "execution_count": 69,
   "metadata": {},
   "outputs": [],
   "source": [
    "# Predicting \n",
    "y_hat_RF       = RF_classifier.predict(X_test)\n",
    "y_hat_AdB      = AdB_classifier.predict(X_test)\n",
    "y_hat_GBM      = GBM_classifier.predict(X_test)\n",
    "y_hat_XGB      = XGB_classifier.predict(X_test)"
   ]
  },
  {
   "cell_type": "code",
   "execution_count": 71,
   "metadata": {},
   "outputs": [
    {
     "name": "stdout",
     "output_type": "stream",
     "text": [
      "RF  Accuracy = 0.7921348314606741\n",
      "AdB Accuracy = 0.5780525502318393\n",
      "GBM Accuracy = 0.7780979827089336\n",
      "XGB Accuracy = 0.864935064935065\n"
     ]
    }
   ],
   "source": [
    "# print f1 scores\n",
    "print('RF  Accuracy = {}'.format(f1_score(y_test, y_hat_RF)))\n",
    "print('AdB Accuracy = {}'.format(f1_score(y_test, y_hat_AdB)))\n",
    "print('GBM Accuracy = {}'.format(f1_score(y_test, y_hat_GBM)))\n",
    "print('XGB Accuracy = {}'.format(f1_score(y_test, y_hat_XGB)))"
   ]
  },
  {
   "cell_type": "markdown",
   "metadata": {},
   "source": [
    "Runtime:\n",
    "1. XGBoost: 587 ms\n",
    "2. Ada Boost: 628 ms\n",
    "3. Random Forest: 694 ms\n",
    "4. Gradient Boosting: 932 ms\n",
    "Performance (F1): \n",
    "1. XGBoost: 0.86\n",
    "2. Random Forest: 0.79\n",
    "3. Gradient Boost: 0.78\n",
    "4. AdaBoost: 0.58"
   ]
  },
  {
   "cell_type": "code",
   "execution_count": 73,
   "metadata": {},
   "outputs": [
    {
     "name": "stdout",
     "output_type": "stream",
     "text": [
      "overall winner: XGBoost\n"
     ]
    }
   ],
   "source": [
    "print(\"overall winner: XGBoost\")"
   ]
  }
 ],
 "metadata": {
  "colab": {
   "collapsed_sections": [],
   "provenance": [],
   "toc_visible": true
  },
  "kernelspec": {
   "display_name": "Python 3 (ipykernel)",
   "language": "python",
   "name": "python3"
  },
  "language_info": {
   "codemirror_mode": {
    "name": "ipython",
    "version": 3
   },
   "file_extension": ".py",
   "mimetype": "text/x-python",
   "name": "python",
   "nbconvert_exporter": "python",
   "pygments_lexer": "ipython3",
   "version": "3.9.12"
  }
 },
 "nbformat": 4,
 "nbformat_minor": 1
}
